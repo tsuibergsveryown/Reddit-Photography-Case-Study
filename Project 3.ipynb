{
 "cells": [
  {
   "cell_type": "code",
   "execution_count": 1,
   "metadata": {},
   "outputs": [],
   "source": [
    "import requests\n",
    "import pandas as pd\n",
    "import numpy as np\n",
    "from bs4 import BeautifulSoup"
   ]
  },
  {
   "cell_type": "code",
   "execution_count": 2,
   "metadata": {},
   "outputs": [],
   "source": [
    "url = 'https://api.pushshift.io/reddit/search/submission'"
   ]
  },
  {
   "cell_type": "markdown",
   "metadata": {},
   "source": [
    "### Subreddit #1 - Wedding Photography"
   ]
  },
  {
   "cell_type": "code",
   "execution_count": 3,
   "metadata": {},
   "outputs": [],
   "source": [
    "df_wp = pd.DataFrame()"
   ]
  },
  {
   "cell_type": "code",
   "execution_count": 4,
   "metadata": {},
   "outputs": [
    {
     "data": {
      "text/html": [
       "<div>\n",
       "<style scoped>\n",
       "    .dataframe tbody tr th:only-of-type {\n",
       "        vertical-align: middle;\n",
       "    }\n",
       "\n",
       "    .dataframe tbody tr th {\n",
       "        vertical-align: top;\n",
       "    }\n",
       "\n",
       "    .dataframe thead th {\n",
       "        text-align: right;\n",
       "    }\n",
       "</style>\n",
       "<table border=\"1\" class=\"dataframe\">\n",
       "  <thead>\n",
       "    <tr style=\"text-align: right;\">\n",
       "      <th></th>\n",
       "      <th>title</th>\n",
       "      <th>selftext</th>\n",
       "      <th>created_utc</th>\n",
       "      <th>subreddit</th>\n",
       "    </tr>\n",
       "  </thead>\n",
       "  <tbody>\n",
       "    <tr>\n",
       "      <th>0</th>\n",
       "      <td>Establishing a couples engagement/wedding port...</td>\n",
       "      <td>Good day r/WeddingPhotography! \\n\\nI’m a docum...</td>\n",
       "      <td>1621197660</td>\n",
       "      <td>WeddingPhotography</td>\n",
       "    </tr>\n",
       "    <tr>\n",
       "      <th>1</th>\n",
       "      <td>EF 70-200 or RF 70-200</td>\n",
       "      <td>Hi, \\n\\nI am looking to see if anyone has any ...</td>\n",
       "      <td>1621172330</td>\n",
       "      <td>WeddingPhotography</td>\n",
       "    </tr>\n",
       "    <tr>\n",
       "      <th>2</th>\n",
       "      <td>Absolutely thrilled with how my second wedding...</td>\n",
       "      <td></td>\n",
       "      <td>1621125372</td>\n",
       "      <td>WeddingPhotography</td>\n",
       "    </tr>\n",
       "    <tr>\n",
       "      <th>3</th>\n",
       "      <td>Good health insurance for wedding photographer?</td>\n",
       "      <td>Hey guys, I know we are all freelancers but is...</td>\n",
       "      <td>1621034510</td>\n",
       "      <td>WeddingPhotography</td>\n",
       "    </tr>\n",
       "    <tr>\n",
       "      <th>4</th>\n",
       "      <td>Need Feedback: How to backup photos in 2021?</td>\n",
       "      <td>Hi folks,  \\nI am doing research regarding pho...</td>\n",
       "      <td>1621022166</td>\n",
       "      <td>WeddingPhotography</td>\n",
       "    </tr>\n",
       "    <tr>\n",
       "      <th>...</th>\n",
       "      <td>...</td>\n",
       "      <td>...</td>\n",
       "      <td>...</td>\n",
       "      <td>...</td>\n",
       "    </tr>\n",
       "    <tr>\n",
       "      <th>595</th>\n",
       "      <td>Affordable IG automation ?</td>\n",
       "      <td>Hey! I know, I know, I shouldn't use automatio...</td>\n",
       "      <td>1624428072</td>\n",
       "      <td>WeddingPhotography</td>\n",
       "    </tr>\n",
       "    <tr>\n",
       "      <th>596</th>\n",
       "      <td>Lead photographer wants me to do a free trial ...</td>\n",
       "      <td>I need advice. I can't tell you how many times...</td>\n",
       "      <td>1624404257</td>\n",
       "      <td>WeddingPhotography</td>\n",
       "    </tr>\n",
       "    <tr>\n",
       "      <th>597</th>\n",
       "      <td>BRANDING</td>\n",
       "      <td>Does anyone have any recommendations for folks...</td>\n",
       "      <td>1624386770</td>\n",
       "      <td>WeddingPhotography</td>\n",
       "    </tr>\n",
       "    <tr>\n",
       "      <th>598</th>\n",
       "      <td>Advice needed: Lens/Body combination Mirrorles...</td>\n",
       "      <td>So I'll be doing a wedding soon and I am plann...</td>\n",
       "      <td>1624373420</td>\n",
       "      <td>WeddingPhotography</td>\n",
       "    </tr>\n",
       "    <tr>\n",
       "      <th>599</th>\n",
       "      <td>How to exit/ sell my wedding photography busin...</td>\n",
       "      <td>I've been going around in circles with the ide...</td>\n",
       "      <td>1624371298</td>\n",
       "      <td>WeddingPhotography</td>\n",
       "    </tr>\n",
       "  </tbody>\n",
       "</table>\n",
       "<p>600 rows × 4 columns</p>\n",
       "</div>"
      ],
      "text/plain": [
       "                                                 title  \\\n",
       "0    Establishing a couples engagement/wedding port...   \n",
       "1                               EF 70-200 or RF 70-200   \n",
       "2    Absolutely thrilled with how my second wedding...   \n",
       "3      Good health insurance for wedding photographer?   \n",
       "4         Need Feedback: How to backup photos in 2021?   \n",
       "..                                                 ...   \n",
       "595                         Affordable IG automation ?   \n",
       "596  Lead photographer wants me to do a free trial ...   \n",
       "597                                           BRANDING   \n",
       "598  Advice needed: Lens/Body combination Mirrorles...   \n",
       "599  How to exit/ sell my wedding photography busin...   \n",
       "\n",
       "                                              selftext  created_utc  \\\n",
       "0    Good day r/WeddingPhotography! \\n\\nI’m a docum...   1621197660   \n",
       "1    Hi, \\n\\nI am looking to see if anyone has any ...   1621172330   \n",
       "2                                                        1621125372   \n",
       "3    Hey guys, I know we are all freelancers but is...   1621034510   \n",
       "4    Hi folks,  \\nI am doing research regarding pho...   1621022166   \n",
       "..                                                 ...          ...   \n",
       "595  Hey! I know, I know, I shouldn't use automatio...   1624428072   \n",
       "596  I need advice. I can't tell you how many times...   1624404257   \n",
       "597  Does anyone have any recommendations for folks...   1624386770   \n",
       "598  So I'll be doing a wedding soon and I am plann...   1624373420   \n",
       "599  I've been going around in circles with the ide...   1624371298   \n",
       "\n",
       "              subreddit  \n",
       "0    WeddingPhotography  \n",
       "1    WeddingPhotography  \n",
       "2    WeddingPhotography  \n",
       "3    WeddingPhotography  \n",
       "4    WeddingPhotography  \n",
       "..                  ...  \n",
       "595  WeddingPhotography  \n",
       "596  WeddingPhotography  \n",
       "597  WeddingPhotography  \n",
       "598  WeddingPhotography  \n",
       "599  WeddingPhotography  \n",
       "\n",
       "[600 rows x 4 columns]"
      ]
     },
     "execution_count": 4,
     "metadata": {},
     "output_type": "execute_result"
    }
   ],
   "source": [
    "# the first 600 rows\n",
    "for i in range(1, 7):\n",
    "    change_utc = '162' + str(i) + '201762'\n",
    "    changet_utc = int(change_utc)\n",
    "    params_wp = {\n",
    "        'subreddit': 'weddingphotography',\n",
    "        'size': 100,\n",
    "        'before': change_utc\n",
    "    }\n",
    "    res = requests.get(url, params_wp)\n",
    "    res.status_code\n",
    "    data = res.json()\n",
    "    posts = data['data']\n",
    "    df = pd.DataFrame(posts)\n",
    "    df = df[['title', 'selftext', 'created_utc','subreddit']]\n",
    "    df_wp = df_wp.append(df, ignore_index = True)\n",
    "\n",
    "df_wp"
   ]
  },
  {
   "cell_type": "code",
   "execution_count": 5,
   "metadata": {},
   "outputs": [
    {
     "data": {
      "text/html": [
       "<div>\n",
       "<style scoped>\n",
       "    .dataframe tbody tr th:only-of-type {\n",
       "        vertical-align: middle;\n",
       "    }\n",
       "\n",
       "    .dataframe tbody tr th {\n",
       "        vertical-align: top;\n",
       "    }\n",
       "\n",
       "    .dataframe thead th {\n",
       "        text-align: right;\n",
       "    }\n",
       "</style>\n",
       "<table border=\"1\" class=\"dataframe\">\n",
       "  <thead>\n",
       "    <tr style=\"text-align: right;\">\n",
       "      <th></th>\n",
       "      <th>title</th>\n",
       "      <th>selftext</th>\n",
       "      <th>created_utc</th>\n",
       "      <th>subreddit</th>\n",
       "    </tr>\n",
       "  </thead>\n",
       "  <tbody>\n",
       "    <tr>\n",
       "      <th>0</th>\n",
       "      <td>Establishing a couples engagement/wedding port...</td>\n",
       "      <td>Good day r/WeddingPhotography! \\n\\nI’m a docum...</td>\n",
       "      <td>1621197660</td>\n",
       "      <td>WeddingPhotography</td>\n",
       "    </tr>\n",
       "    <tr>\n",
       "      <th>1</th>\n",
       "      <td>EF 70-200 or RF 70-200</td>\n",
       "      <td>Hi, \\n\\nI am looking to see if anyone has any ...</td>\n",
       "      <td>1621172330</td>\n",
       "      <td>WeddingPhotography</td>\n",
       "    </tr>\n",
       "    <tr>\n",
       "      <th>2</th>\n",
       "      <td>Absolutely thrilled with how my second wedding...</td>\n",
       "      <td></td>\n",
       "      <td>1621125372</td>\n",
       "      <td>WeddingPhotography</td>\n",
       "    </tr>\n",
       "    <tr>\n",
       "      <th>3</th>\n",
       "      <td>Good health insurance for wedding photographer?</td>\n",
       "      <td>Hey guys, I know we are all freelancers but is...</td>\n",
       "      <td>1621034510</td>\n",
       "      <td>WeddingPhotography</td>\n",
       "    </tr>\n",
       "    <tr>\n",
       "      <th>4</th>\n",
       "      <td>Need Feedback: How to backup photos in 2021?</td>\n",
       "      <td>Hi folks,  \\nI am doing research regarding pho...</td>\n",
       "      <td>1621022166</td>\n",
       "      <td>WeddingPhotography</td>\n",
       "    </tr>\n",
       "    <tr>\n",
       "      <th>...</th>\n",
       "      <td>...</td>\n",
       "      <td>...</td>\n",
       "      <td>...</td>\n",
       "      <td>...</td>\n",
       "    </tr>\n",
       "    <tr>\n",
       "      <th>1195</th>\n",
       "      <td>Photography = Massive MLM?</td>\n",
       "      <td>Does anyone else feel like the photography ind...</td>\n",
       "      <td>1613689750</td>\n",
       "      <td>WeddingPhotography</td>\n",
       "    </tr>\n",
       "    <tr>\n",
       "      <th>1196</th>\n",
       "      <td>How much does my gear matter when second shoot...</td>\n",
       "      <td>I am trying to get \"hired\" as a second photogr...</td>\n",
       "      <td>1613683489</td>\n",
       "      <td>WeddingPhotography</td>\n",
       "    </tr>\n",
       "    <tr>\n",
       "      <th>1197</th>\n",
       "      <td>Swtiched to Lightroom Classsic and colors seem...</td>\n",
       "      <td>Running into an issue that I can't figure out!...</td>\n",
       "      <td>1613670458</td>\n",
       "      <td>WeddingPhotography</td>\n",
       "    </tr>\n",
       "    <tr>\n",
       "      <th>1198</th>\n",
       "      <td>Alternative to Lightroom for editing/organizin...</td>\n",
       "      <td>Is anyone using an alternative to Lightroom fo...</td>\n",
       "      <td>1613670386</td>\n",
       "      <td>WeddingPhotography</td>\n",
       "    </tr>\n",
       "    <tr>\n",
       "      <th>1199</th>\n",
       "      <td>WW &amp;amp; TK dispute</td>\n",
       "      <td>So I bought into them like an idiot and last M...</td>\n",
       "      <td>1613670108</td>\n",
       "      <td>WeddingPhotography</td>\n",
       "    </tr>\n",
       "  </tbody>\n",
       "</table>\n",
       "<p>1200 rows × 4 columns</p>\n",
       "</div>"
      ],
      "text/plain": [
       "                                                  title  \\\n",
       "0     Establishing a couples engagement/wedding port...   \n",
       "1                                EF 70-200 or RF 70-200   \n",
       "2     Absolutely thrilled with how my second wedding...   \n",
       "3       Good health insurance for wedding photographer?   \n",
       "4          Need Feedback: How to backup photos in 2021?   \n",
       "...                                                 ...   \n",
       "1195                         Photography = Massive MLM?   \n",
       "1196  How much does my gear matter when second shoot...   \n",
       "1197  Swtiched to Lightroom Classsic and colors seem...   \n",
       "1198  Alternative to Lightroom for editing/organizin...   \n",
       "1199                                WW &amp; TK dispute   \n",
       "\n",
       "                                               selftext  created_utc  \\\n",
       "0     Good day r/WeddingPhotography! \\n\\nI’m a docum...   1621197660   \n",
       "1     Hi, \\n\\nI am looking to see if anyone has any ...   1621172330   \n",
       "2                                                         1621125372   \n",
       "3     Hey guys, I know we are all freelancers but is...   1621034510   \n",
       "4     Hi folks,  \\nI am doing research regarding pho...   1621022166   \n",
       "...                                                 ...          ...   \n",
       "1195  Does anyone else feel like the photography ind...   1613689750   \n",
       "1196  I am trying to get \"hired\" as a second photogr...   1613683489   \n",
       "1197  Running into an issue that I can't figure out!...   1613670458   \n",
       "1198  Is anyone using an alternative to Lightroom fo...   1613670386   \n",
       "1199  So I bought into them like an idiot and last M...   1613670108   \n",
       "\n",
       "               subreddit  \n",
       "0     WeddingPhotography  \n",
       "1     WeddingPhotography  \n",
       "2     WeddingPhotography  \n",
       "3     WeddingPhotography  \n",
       "4     WeddingPhotography  \n",
       "...                  ...  \n",
       "1195  WeddingPhotography  \n",
       "1196  WeddingPhotography  \n",
       "1197  WeddingPhotography  \n",
       "1198  WeddingPhotography  \n",
       "1199  WeddingPhotography  \n",
       "\n",
       "[1200 rows x 4 columns]"
      ]
     },
     "execution_count": 5,
     "metadata": {},
     "output_type": "execute_result"
    }
   ],
   "source": [
    "# second 600 rows, and then append to the previous df_wp\n",
    "for i in range(1, 7):\n",
    "    change_utc = '161' + str(i) + '201762' # adjust utc time here\n",
    "    changet_utc = int(change_utc)\n",
    "    params_wp = {\n",
    "        'subreddit': 'weddingphotography',\n",
    "        'size': 100,\n",
    "        'before': change_utc\n",
    "    }\n",
    "    res = requests.get(url, params_wp)\n",
    "    res.status_code\n",
    "    data = res.json()\n",
    "    posts = data['data']\n",
    "    df_1wp = pd.DataFrame(posts)\n",
    "    df_1wp = df_1wp[['title', 'selftext', 'created_utc','subreddit']]\n",
    "    df_wp = df_wp.append(df_1wp, ignore_index = True)\n",
    "\n",
    "df_wp"
   ]
  },
  {
   "cell_type": "code",
   "execution_count": 6,
   "metadata": {},
   "outputs": [
    {
     "data": {
      "text/html": [
       "<div>\n",
       "<style scoped>\n",
       "    .dataframe tbody tr th:only-of-type {\n",
       "        vertical-align: middle;\n",
       "    }\n",
       "\n",
       "    .dataframe tbody tr th {\n",
       "        vertical-align: top;\n",
       "    }\n",
       "\n",
       "    .dataframe thead th {\n",
       "        text-align: right;\n",
       "    }\n",
       "</style>\n",
       "<table border=\"1\" class=\"dataframe\">\n",
       "  <thead>\n",
       "    <tr style=\"text-align: right;\">\n",
       "      <th></th>\n",
       "      <th>title</th>\n",
       "      <th>selftext</th>\n",
       "      <th>created_utc</th>\n",
       "      <th>subreddit</th>\n",
       "      <th>text</th>\n",
       "    </tr>\n",
       "  </thead>\n",
       "  <tbody>\n",
       "    <tr>\n",
       "      <th>0</th>\n",
       "      <td>Establishing a couples engagement/wedding port...</td>\n",
       "      <td>Good day r/WeddingPhotography! \\n\\nI’m a docum...</td>\n",
       "      <td>1621197660</td>\n",
       "      <td>WeddingPhotography</td>\n",
       "      <td>Establishing a couples engagement/wedding port...</td>\n",
       "    </tr>\n",
       "    <tr>\n",
       "      <th>1</th>\n",
       "      <td>EF 70-200 or RF 70-200</td>\n",
       "      <td>Hi, \\n\\nI am looking to see if anyone has any ...</td>\n",
       "      <td>1621172330</td>\n",
       "      <td>WeddingPhotography</td>\n",
       "      <td>EF 70-200 or RF 70-200Hi, \\n\\nI am looking to ...</td>\n",
       "    </tr>\n",
       "    <tr>\n",
       "      <th>2</th>\n",
       "      <td>Absolutely thrilled with how my second wedding...</td>\n",
       "      <td></td>\n",
       "      <td>1621125372</td>\n",
       "      <td>WeddingPhotography</td>\n",
       "      <td>Absolutely thrilled with how my second wedding...</td>\n",
       "    </tr>\n",
       "    <tr>\n",
       "      <th>3</th>\n",
       "      <td>Good health insurance for wedding photographer?</td>\n",
       "      <td>Hey guys, I know we are all freelancers but is...</td>\n",
       "      <td>1621034510</td>\n",
       "      <td>WeddingPhotography</td>\n",
       "      <td>Good health insurance for wedding photographer...</td>\n",
       "    </tr>\n",
       "    <tr>\n",
       "      <th>4</th>\n",
       "      <td>Need Feedback: How to backup photos in 2021?</td>\n",
       "      <td>Hi folks,  \\nI am doing research regarding pho...</td>\n",
       "      <td>1621022166</td>\n",
       "      <td>WeddingPhotography</td>\n",
       "      <td>Need Feedback: How to backup photos in 2021?Hi...</td>\n",
       "    </tr>\n",
       "    <tr>\n",
       "      <th>...</th>\n",
       "      <td>...</td>\n",
       "      <td>...</td>\n",
       "      <td>...</td>\n",
       "      <td>...</td>\n",
       "      <td>...</td>\n",
       "    </tr>\n",
       "    <tr>\n",
       "      <th>1195</th>\n",
       "      <td>Photography = Massive MLM?</td>\n",
       "      <td>Does anyone else feel like the photography ind...</td>\n",
       "      <td>1613689750</td>\n",
       "      <td>WeddingPhotography</td>\n",
       "      <td>Photography = Massive MLM?Does anyone else fee...</td>\n",
       "    </tr>\n",
       "    <tr>\n",
       "      <th>1196</th>\n",
       "      <td>How much does my gear matter when second shoot...</td>\n",
       "      <td>I am trying to get \"hired\" as a second photogr...</td>\n",
       "      <td>1613683489</td>\n",
       "      <td>WeddingPhotography</td>\n",
       "      <td>How much does my gear matter when second shoot...</td>\n",
       "    </tr>\n",
       "    <tr>\n",
       "      <th>1197</th>\n",
       "      <td>Swtiched to Lightroom Classsic and colors seem...</td>\n",
       "      <td>Running into an issue that I can't figure out!...</td>\n",
       "      <td>1613670458</td>\n",
       "      <td>WeddingPhotography</td>\n",
       "      <td>Swtiched to Lightroom Classsic and colors seem...</td>\n",
       "    </tr>\n",
       "    <tr>\n",
       "      <th>1198</th>\n",
       "      <td>Alternative to Lightroom for editing/organizin...</td>\n",
       "      <td>Is anyone using an alternative to Lightroom fo...</td>\n",
       "      <td>1613670386</td>\n",
       "      <td>WeddingPhotography</td>\n",
       "      <td>Alternative to Lightroom for editing/organizin...</td>\n",
       "    </tr>\n",
       "    <tr>\n",
       "      <th>1199</th>\n",
       "      <td>WW &amp;amp; TK dispute</td>\n",
       "      <td>So I bought into them like an idiot and last M...</td>\n",
       "      <td>1613670108</td>\n",
       "      <td>WeddingPhotography</td>\n",
       "      <td>WW &amp;amp; TK disputeSo I bought into them like ...</td>\n",
       "    </tr>\n",
       "  </tbody>\n",
       "</table>\n",
       "<p>1200 rows × 5 columns</p>\n",
       "</div>"
      ],
      "text/plain": [
       "                                                  title  \\\n",
       "0     Establishing a couples engagement/wedding port...   \n",
       "1                                EF 70-200 or RF 70-200   \n",
       "2     Absolutely thrilled with how my second wedding...   \n",
       "3       Good health insurance for wedding photographer?   \n",
       "4          Need Feedback: How to backup photos in 2021?   \n",
       "...                                                 ...   \n",
       "1195                         Photography = Massive MLM?   \n",
       "1196  How much does my gear matter when second shoot...   \n",
       "1197  Swtiched to Lightroom Classsic and colors seem...   \n",
       "1198  Alternative to Lightroom for editing/organizin...   \n",
       "1199                                WW &amp; TK dispute   \n",
       "\n",
       "                                               selftext  created_utc  \\\n",
       "0     Good day r/WeddingPhotography! \\n\\nI’m a docum...   1621197660   \n",
       "1     Hi, \\n\\nI am looking to see if anyone has any ...   1621172330   \n",
       "2                                                         1621125372   \n",
       "3     Hey guys, I know we are all freelancers but is...   1621034510   \n",
       "4     Hi folks,  \\nI am doing research regarding pho...   1621022166   \n",
       "...                                                 ...          ...   \n",
       "1195  Does anyone else feel like the photography ind...   1613689750   \n",
       "1196  I am trying to get \"hired\" as a second photogr...   1613683489   \n",
       "1197  Running into an issue that I can't figure out!...   1613670458   \n",
       "1198  Is anyone using an alternative to Lightroom fo...   1613670386   \n",
       "1199  So I bought into them like an idiot and last M...   1613670108   \n",
       "\n",
       "               subreddit                                               text  \n",
       "0     WeddingPhotography  Establishing a couples engagement/wedding port...  \n",
       "1     WeddingPhotography  EF 70-200 or RF 70-200Hi, \\n\\nI am looking to ...  \n",
       "2     WeddingPhotography  Absolutely thrilled with how my second wedding...  \n",
       "3     WeddingPhotography  Good health insurance for wedding photographer...  \n",
       "4     WeddingPhotography  Need Feedback: How to backup photos in 2021?Hi...  \n",
       "...                  ...                                                ...  \n",
       "1195  WeddingPhotography  Photography = Massive MLM?Does anyone else fee...  \n",
       "1196  WeddingPhotography  How much does my gear matter when second shoot...  \n",
       "1197  WeddingPhotography  Swtiched to Lightroom Classsic and colors seem...  \n",
       "1198  WeddingPhotography  Alternative to Lightroom for editing/organizin...  \n",
       "1199  WeddingPhotography  WW &amp; TK disputeSo I bought into them like ...  \n",
       "\n",
       "[1200 rows x 5 columns]"
      ]
     },
     "execution_count": 6,
     "metadata": {},
     "output_type": "execute_result"
    }
   ],
   "source": [
    "df_wp['text'] = df_wp['title'] + df_wp['selftext']\n",
    "df_wp"
   ]
  },
  {
   "cell_type": "code",
   "execution_count": 7,
   "metadata": {},
   "outputs": [
    {
     "data": {
      "text/plain": [
       "title          0\n",
       "selftext       2\n",
       "created_utc    0\n",
       "subreddit      0\n",
       "text           2\n",
       "dtype: int64"
      ]
     },
     "execution_count": 7,
     "metadata": {},
     "output_type": "execute_result"
    }
   ],
   "source": [
    "df_wp.isnull().sum()"
   ]
  },
  {
   "cell_type": "code",
   "execution_count": 8,
   "metadata": {},
   "outputs": [
    {
     "name": "stdout",
     "output_type": "stream",
     "text": [
      "<class 'pandas.core.frame.DataFrame'>\n",
      "Int64Index: 1198 entries, 0 to 1199\n",
      "Data columns (total 5 columns):\n",
      " #   Column       Non-Null Count  Dtype \n",
      "---  ------       --------------  ----- \n",
      " 0   title        1198 non-null   object\n",
      " 1   selftext     1198 non-null   object\n",
      " 2   created_utc  1198 non-null   int64 \n",
      " 3   subreddit    1198 non-null   object\n",
      " 4   text         1198 non-null   object\n",
      "dtypes: int64(1), object(4)\n",
      "memory usage: 56.2+ KB\n"
     ]
    }
   ],
   "source": [
    "df_wp.dropna(inplace=True)\n",
    "df_wp.info()"
   ]
  },
  {
   "cell_type": "markdown",
   "metadata": {},
   "source": [
    "### Subreddit #2 - Fashion Photography"
   ]
  },
  {
   "cell_type": "code",
   "execution_count": 9,
   "metadata": {},
   "outputs": [],
   "source": [
    "df_fp = pd.DataFrame()"
   ]
  },
  {
   "cell_type": "code",
   "execution_count": 10,
   "metadata": {},
   "outputs": [
    {
     "data": {
      "text/html": [
       "<div>\n",
       "<style scoped>\n",
       "    .dataframe tbody tr th:only-of-type {\n",
       "        vertical-align: middle;\n",
       "    }\n",
       "\n",
       "    .dataframe tbody tr th {\n",
       "        vertical-align: top;\n",
       "    }\n",
       "\n",
       "    .dataframe thead th {\n",
       "        text-align: right;\n",
       "    }\n",
       "</style>\n",
       "<table border=\"1\" class=\"dataframe\">\n",
       "  <thead>\n",
       "    <tr style=\"text-align: right;\">\n",
       "      <th></th>\n",
       "      <th>title</th>\n",
       "      <th>selftext</th>\n",
       "      <th>created_utc</th>\n",
       "      <th>subreddit</th>\n",
       "    </tr>\n",
       "  </thead>\n",
       "  <tbody>\n",
       "    <tr>\n",
       "      <th>0</th>\n",
       "      <td>New at photography. Trying to make my way into...</td>\n",
       "      <td></td>\n",
       "      <td>1621792396</td>\n",
       "      <td>fashionphotography</td>\n",
       "    </tr>\n",
       "    <tr>\n",
       "      <th>1</th>\n",
       "      <td>📷📸</td>\n",
       "      <td></td>\n",
       "      <td>1621764997</td>\n",
       "      <td>fashionphotography</td>\n",
       "    </tr>\n",
       "    <tr>\n",
       "      <th>2</th>\n",
       "      <td>Dark...</td>\n",
       "      <td></td>\n",
       "      <td>1621764822</td>\n",
       "      <td>fashionphotography</td>\n",
       "    </tr>\n",
       "    <tr>\n",
       "      <th>3</th>\n",
       "      <td>Tijuana Angels book</td>\n",
       "      <td></td>\n",
       "      <td>1621752151</td>\n",
       "      <td>fashionphotography</td>\n",
       "    </tr>\n",
       "    <tr>\n",
       "      <th>4</th>\n",
       "      <td>One of my favorites from my last set, first ti...</td>\n",
       "      <td></td>\n",
       "      <td>1621736428</td>\n",
       "      <td>fashionphotography</td>\n",
       "    </tr>\n",
       "    <tr>\n",
       "      <th>...</th>\n",
       "      <td>...</td>\n",
       "      <td>...</td>\n",
       "      <td>...</td>\n",
       "      <td>...</td>\n",
       "    </tr>\n",
       "    <tr>\n",
       "      <th>595</th>\n",
       "      <td>Photography done last summer for I’ternal Stud...</td>\n",
       "      <td></td>\n",
       "      <td>1617896581</td>\n",
       "      <td>fashionphotography</td>\n",
       "    </tr>\n",
       "    <tr>\n",
       "      <th>596</th>\n",
       "      <td>From my very first fashion show about 10 years...</td>\n",
       "      <td></td>\n",
       "      <td>1617695227</td>\n",
       "      <td>fashionphotography</td>\n",
       "    </tr>\n",
       "    <tr>\n",
       "      <th>597</th>\n",
       "      <td>Would like to get your comments for further im...</td>\n",
       "      <td></td>\n",
       "      <td>1617689804</td>\n",
       "      <td>fashionphotography</td>\n",
       "    </tr>\n",
       "    <tr>\n",
       "      <th>598</th>\n",
       "      <td>“Amante, This Is A French Winter” Captured by ...</td>\n",
       "      <td></td>\n",
       "      <td>1617641389</td>\n",
       "      <td>fashionphotography</td>\n",
       "    </tr>\n",
       "    <tr>\n",
       "      <th>599</th>\n",
       "      <td>Photoshoot I did with a workmate of mine ig@_c...</td>\n",
       "      <td></td>\n",
       "      <td>1617481759</td>\n",
       "      <td>fashionphotography</td>\n",
       "    </tr>\n",
       "  </tbody>\n",
       "</table>\n",
       "<p>600 rows × 4 columns</p>\n",
       "</div>"
      ],
      "text/plain": [
       "                                                 title selftext  created_utc  \\\n",
       "0    New at photography. Trying to make my way into...            1621792396   \n",
       "1                                                   📷📸            1621764997   \n",
       "2                                              Dark...            1621764822   \n",
       "3                                  Tijuana Angels book            1621752151   \n",
       "4    One of my favorites from my last set, first ti...            1621736428   \n",
       "..                                                 ...      ...          ...   \n",
       "595  Photography done last summer for I’ternal Stud...            1617896581   \n",
       "596  From my very first fashion show about 10 years...            1617695227   \n",
       "597  Would like to get your comments for further im...            1617689804   \n",
       "598  “Amante, This Is A French Winter” Captured by ...            1617641389   \n",
       "599  Photoshoot I did with a workmate of mine ig@_c...            1617481759   \n",
       "\n",
       "              subreddit  \n",
       "0    fashionphotography  \n",
       "1    fashionphotography  \n",
       "2    fashionphotography  \n",
       "3    fashionphotography  \n",
       "4    fashionphotography  \n",
       "..                  ...  \n",
       "595  fashionphotography  \n",
       "596  fashionphotography  \n",
       "597  fashionphotography  \n",
       "598  fashionphotography  \n",
       "599  fashionphotography  \n",
       "\n",
       "[600 rows x 4 columns]"
      ]
     },
     "execution_count": 10,
     "metadata": {},
     "output_type": "execute_result"
    }
   ],
   "source": [
    "# the first 600 rows\n",
    "for i in range(1, 7):\n",
    "    change_utc = '162' + str(i) + '815213'\n",
    "    changet_utc = int(change_utc)\n",
    "    params_wp = {\n",
    "        'subreddit': 'fashionphotography',\n",
    "        'size': 100,\n",
    "        'before': change_utc\n",
    "    }\n",
    "    res = requests.get(url, params_wp)\n",
    "    res.status_code\n",
    "    data = res.json()\n",
    "    posts = data['data']\n",
    "    df_1 = pd.DataFrame(posts)\n",
    "    df_1 = df_1[['title', 'selftext', 'created_utc','subreddit']]\n",
    "    df_fp = df_fp.append(df_1, ignore_index = True)\n",
    "\n",
    "df_fp"
   ]
  },
  {
   "cell_type": "code",
   "execution_count": 11,
   "metadata": {},
   "outputs": [
    {
     "data": {
      "text/html": [
       "<div>\n",
       "<style scoped>\n",
       "    .dataframe tbody tr th:only-of-type {\n",
       "        vertical-align: middle;\n",
       "    }\n",
       "\n",
       "    .dataframe tbody tr th {\n",
       "        vertical-align: top;\n",
       "    }\n",
       "\n",
       "    .dataframe thead th {\n",
       "        text-align: right;\n",
       "    }\n",
       "</style>\n",
       "<table border=\"1\" class=\"dataframe\">\n",
       "  <thead>\n",
       "    <tr style=\"text-align: right;\">\n",
       "      <th></th>\n",
       "      <th>title</th>\n",
       "      <th>selftext</th>\n",
       "      <th>created_utc</th>\n",
       "      <th>subreddit</th>\n",
       "    </tr>\n",
       "  </thead>\n",
       "  <tbody>\n",
       "    <tr>\n",
       "      <th>0</th>\n",
       "      <td>New at photography. Trying to make my way into...</td>\n",
       "      <td></td>\n",
       "      <td>1621792396</td>\n",
       "      <td>fashionphotography</td>\n",
       "    </tr>\n",
       "    <tr>\n",
       "      <th>1</th>\n",
       "      <td>📷📸</td>\n",
       "      <td></td>\n",
       "      <td>1621764997</td>\n",
       "      <td>fashionphotography</td>\n",
       "    </tr>\n",
       "    <tr>\n",
       "      <th>2</th>\n",
       "      <td>Dark...</td>\n",
       "      <td></td>\n",
       "      <td>1621764822</td>\n",
       "      <td>fashionphotography</td>\n",
       "    </tr>\n",
       "    <tr>\n",
       "      <th>3</th>\n",
       "      <td>Tijuana Angels book</td>\n",
       "      <td></td>\n",
       "      <td>1621752151</td>\n",
       "      <td>fashionphotography</td>\n",
       "    </tr>\n",
       "    <tr>\n",
       "      <th>4</th>\n",
       "      <td>One of my favorites from my last set, first ti...</td>\n",
       "      <td></td>\n",
       "      <td>1621736428</td>\n",
       "      <td>fashionphotography</td>\n",
       "    </tr>\n",
       "    <tr>\n",
       "      <th>...</th>\n",
       "      <td>...</td>\n",
       "      <td>...</td>\n",
       "      <td>...</td>\n",
       "      <td>...</td>\n",
       "    </tr>\n",
       "    <tr>\n",
       "      <th>1195</th>\n",
       "      <td>Jay Wright photographed by Vanessa Zican Feng ...</td>\n",
       "      <td></td>\n",
       "      <td>1606674627</td>\n",
       "      <td>fashionphotography</td>\n",
       "    </tr>\n",
       "    <tr>\n",
       "      <th>1196</th>\n",
       "      <td>Hello, I post here for the first time soooo be...</td>\n",
       "      <td></td>\n",
       "      <td>1606603066</td>\n",
       "      <td>fashionphotography</td>\n",
       "    </tr>\n",
       "    <tr>\n",
       "      <th>1197</th>\n",
       "      <td>Some classic Cecil Beaton Photographs</td>\n",
       "      <td></td>\n",
       "      <td>1606588860</td>\n",
       "      <td>fashionphotography</td>\n",
       "    </tr>\n",
       "    <tr>\n",
       "      <th>1198</th>\n",
       "      <td>Lola Nicon photographed by Dario Catellani for...</td>\n",
       "      <td></td>\n",
       "      <td>1606406304</td>\n",
       "      <td>fashionphotography</td>\n",
       "    </tr>\n",
       "    <tr>\n",
       "      <th>1199</th>\n",
       "      <td>Número 218 by Txema Yeste . One of my favorite...</td>\n",
       "      <td></td>\n",
       "      <td>1606392840</td>\n",
       "      <td>fashionphotography</td>\n",
       "    </tr>\n",
       "  </tbody>\n",
       "</table>\n",
       "<p>1200 rows × 4 columns</p>\n",
       "</div>"
      ],
      "text/plain": [
       "                                                  title selftext  created_utc  \\\n",
       "0     New at photography. Trying to make my way into...            1621792396   \n",
       "1                                                    📷📸            1621764997   \n",
       "2                                               Dark...            1621764822   \n",
       "3                                   Tijuana Angels book            1621752151   \n",
       "4     One of my favorites from my last set, first ti...            1621736428   \n",
       "...                                                 ...      ...          ...   \n",
       "1195  Jay Wright photographed by Vanessa Zican Feng ...            1606674627   \n",
       "1196  Hello, I post here for the first time soooo be...            1606603066   \n",
       "1197              Some classic Cecil Beaton Photographs            1606588860   \n",
       "1198  Lola Nicon photographed by Dario Catellani for...            1606406304   \n",
       "1199  Número 218 by Txema Yeste . One of my favorite...            1606392840   \n",
       "\n",
       "               subreddit  \n",
       "0     fashionphotography  \n",
       "1     fashionphotography  \n",
       "2     fashionphotography  \n",
       "3     fashionphotography  \n",
       "4     fashionphotography  \n",
       "...                  ...  \n",
       "1195  fashionphotography  \n",
       "1196  fashionphotography  \n",
       "1197  fashionphotography  \n",
       "1198  fashionphotography  \n",
       "1199  fashionphotography  \n",
       "\n",
       "[1200 rows x 4 columns]"
      ]
     },
     "execution_count": 11,
     "metadata": {},
     "output_type": "execute_result"
    }
   ],
   "source": [
    "# the second 600 rows and then append to the previous df_fp\n",
    "for i in range(1, 7):\n",
    "    change_utc = '161' + str(i) + '815213' # adjust utc time here\n",
    "    changet_utc = int(change_utc)\n",
    "    params_wp = {\n",
    "        'subreddit': 'fashionphotography',\n",
    "        'size': 100,\n",
    "        'before': change_utc\n",
    "    }\n",
    "    res = requests.get(url, params_wp)\n",
    "    res.status_code\n",
    "    data = res.json()\n",
    "    posts = data['data']\n",
    "    df_1fp = pd.DataFrame(posts)\n",
    "    df_1fp = df_1fp[['title', 'selftext', 'created_utc','subreddit']]\n",
    "    df_fp = df_fp.append(df_1fp, ignore_index = True)\n",
    "\n",
    "df_fp"
   ]
  },
  {
   "cell_type": "code",
   "execution_count": 12,
   "metadata": {},
   "outputs": [
    {
     "data": {
      "text/html": [
       "<div>\n",
       "<style scoped>\n",
       "    .dataframe tbody tr th:only-of-type {\n",
       "        vertical-align: middle;\n",
       "    }\n",
       "\n",
       "    .dataframe tbody tr th {\n",
       "        vertical-align: top;\n",
       "    }\n",
       "\n",
       "    .dataframe thead th {\n",
       "        text-align: right;\n",
       "    }\n",
       "</style>\n",
       "<table border=\"1\" class=\"dataframe\">\n",
       "  <thead>\n",
       "    <tr style=\"text-align: right;\">\n",
       "      <th></th>\n",
       "      <th>title</th>\n",
       "      <th>selftext</th>\n",
       "      <th>created_utc</th>\n",
       "      <th>subreddit</th>\n",
       "      <th>text</th>\n",
       "    </tr>\n",
       "  </thead>\n",
       "  <tbody>\n",
       "    <tr>\n",
       "      <th>0</th>\n",
       "      <td>New at photography. Trying to make my way into...</td>\n",
       "      <td></td>\n",
       "      <td>1621792396</td>\n",
       "      <td>fashionphotography</td>\n",
       "      <td>New at photography. Trying to make my way into...</td>\n",
       "    </tr>\n",
       "    <tr>\n",
       "      <th>1</th>\n",
       "      <td>📷📸</td>\n",
       "      <td></td>\n",
       "      <td>1621764997</td>\n",
       "      <td>fashionphotography</td>\n",
       "      <td>📷📸</td>\n",
       "    </tr>\n",
       "    <tr>\n",
       "      <th>2</th>\n",
       "      <td>Dark...</td>\n",
       "      <td></td>\n",
       "      <td>1621764822</td>\n",
       "      <td>fashionphotography</td>\n",
       "      <td>Dark...</td>\n",
       "    </tr>\n",
       "    <tr>\n",
       "      <th>3</th>\n",
       "      <td>Tijuana Angels book</td>\n",
       "      <td></td>\n",
       "      <td>1621752151</td>\n",
       "      <td>fashionphotography</td>\n",
       "      <td>Tijuana Angels book</td>\n",
       "    </tr>\n",
       "    <tr>\n",
       "      <th>4</th>\n",
       "      <td>One of my favorites from my last set, first ti...</td>\n",
       "      <td></td>\n",
       "      <td>1621736428</td>\n",
       "      <td>fashionphotography</td>\n",
       "      <td>One of my favorites from my last set, first ti...</td>\n",
       "    </tr>\n",
       "    <tr>\n",
       "      <th>...</th>\n",
       "      <td>...</td>\n",
       "      <td>...</td>\n",
       "      <td>...</td>\n",
       "      <td>...</td>\n",
       "      <td>...</td>\n",
       "    </tr>\n",
       "    <tr>\n",
       "      <th>1195</th>\n",
       "      <td>Jay Wright photographed by Vanessa Zican Feng ...</td>\n",
       "      <td></td>\n",
       "      <td>1606674627</td>\n",
       "      <td>fashionphotography</td>\n",
       "      <td>Jay Wright photographed by Vanessa Zican Feng ...</td>\n",
       "    </tr>\n",
       "    <tr>\n",
       "      <th>1196</th>\n",
       "      <td>Hello, I post here for the first time soooo be...</td>\n",
       "      <td></td>\n",
       "      <td>1606603066</td>\n",
       "      <td>fashionphotography</td>\n",
       "      <td>Hello, I post here for the first time soooo be...</td>\n",
       "    </tr>\n",
       "    <tr>\n",
       "      <th>1197</th>\n",
       "      <td>Some classic Cecil Beaton Photographs</td>\n",
       "      <td></td>\n",
       "      <td>1606588860</td>\n",
       "      <td>fashionphotography</td>\n",
       "      <td>Some classic Cecil Beaton Photographs</td>\n",
       "    </tr>\n",
       "    <tr>\n",
       "      <th>1198</th>\n",
       "      <td>Lola Nicon photographed by Dario Catellani for...</td>\n",
       "      <td></td>\n",
       "      <td>1606406304</td>\n",
       "      <td>fashionphotography</td>\n",
       "      <td>Lola Nicon photographed by Dario Catellani for...</td>\n",
       "    </tr>\n",
       "    <tr>\n",
       "      <th>1199</th>\n",
       "      <td>Número 218 by Txema Yeste . One of my favorite...</td>\n",
       "      <td></td>\n",
       "      <td>1606392840</td>\n",
       "      <td>fashionphotography</td>\n",
       "      <td>Número 218 by Txema Yeste . One of my favorite...</td>\n",
       "    </tr>\n",
       "  </tbody>\n",
       "</table>\n",
       "<p>1200 rows × 5 columns</p>\n",
       "</div>"
      ],
      "text/plain": [
       "                                                  title selftext  created_utc  \\\n",
       "0     New at photography. Trying to make my way into...            1621792396   \n",
       "1                                                    📷📸            1621764997   \n",
       "2                                               Dark...            1621764822   \n",
       "3                                   Tijuana Angels book            1621752151   \n",
       "4     One of my favorites from my last set, first ti...            1621736428   \n",
       "...                                                 ...      ...          ...   \n",
       "1195  Jay Wright photographed by Vanessa Zican Feng ...            1606674627   \n",
       "1196  Hello, I post here for the first time soooo be...            1606603066   \n",
       "1197              Some classic Cecil Beaton Photographs            1606588860   \n",
       "1198  Lola Nicon photographed by Dario Catellani for...            1606406304   \n",
       "1199  Número 218 by Txema Yeste . One of my favorite...            1606392840   \n",
       "\n",
       "               subreddit                                               text  \n",
       "0     fashionphotography  New at photography. Trying to make my way into...  \n",
       "1     fashionphotography                                                 📷📸  \n",
       "2     fashionphotography                                            Dark...  \n",
       "3     fashionphotography                                Tijuana Angels book  \n",
       "4     fashionphotography  One of my favorites from my last set, first ti...  \n",
       "...                  ...                                                ...  \n",
       "1195  fashionphotography  Jay Wright photographed by Vanessa Zican Feng ...  \n",
       "1196  fashionphotography  Hello, I post here for the first time soooo be...  \n",
       "1197  fashionphotography              Some classic Cecil Beaton Photographs  \n",
       "1198  fashionphotography  Lola Nicon photographed by Dario Catellani for...  \n",
       "1199  fashionphotography  Número 218 by Txema Yeste . One of my favorite...  \n",
       "\n",
       "[1200 rows x 5 columns]"
      ]
     },
     "execution_count": 12,
     "metadata": {},
     "output_type": "execute_result"
    }
   ],
   "source": [
    "df_fp['text'] = df_fp['title'] + df_fp['selftext']\n",
    "df_fp"
   ]
  },
  {
   "cell_type": "code",
   "execution_count": 13,
   "metadata": {},
   "outputs": [
    {
     "data": {
      "text/plain": [
       "title          0\n",
       "selftext       7\n",
       "created_utc    0\n",
       "subreddit      0\n",
       "text           7\n",
       "dtype: int64"
      ]
     },
     "execution_count": 13,
     "metadata": {},
     "output_type": "execute_result"
    }
   ],
   "source": [
    "df_fp.isnull().sum()"
   ]
  },
  {
   "cell_type": "code",
   "execution_count": 14,
   "metadata": {},
   "outputs": [],
   "source": [
    "df_fp.dropna(inplace=True)"
   ]
  },
  {
   "cell_type": "code",
   "execution_count": 15,
   "metadata": {},
   "outputs": [
    {
     "name": "stdout",
     "output_type": "stream",
     "text": [
      "<class 'pandas.core.frame.DataFrame'>\n",
      "Int64Index: 1193 entries, 0 to 1199\n",
      "Data columns (total 5 columns):\n",
      " #   Column       Non-Null Count  Dtype \n",
      "---  ------       --------------  ----- \n",
      " 0   title        1193 non-null   object\n",
      " 1   selftext     1193 non-null   object\n",
      " 2   created_utc  1193 non-null   int64 \n",
      " 3   subreddit    1193 non-null   object\n",
      " 4   text         1193 non-null   object\n",
      "dtypes: int64(1), object(4)\n",
      "memory usage: 55.9+ KB\n"
     ]
    }
   ],
   "source": [
    "df_fp.info()"
   ]
  },
  {
   "cell_type": "markdown",
   "metadata": {},
   "source": [
    "### Subreddit #3 - Cinematography"
   ]
  },
  {
   "cell_type": "code",
   "execution_count": 16,
   "metadata": {},
   "outputs": [],
   "source": [
    "df_c = pd.DataFrame()"
   ]
  },
  {
   "cell_type": "code",
   "execution_count": 17,
   "metadata": {},
   "outputs": [
    {
     "data": {
      "text/html": [
       "<div>\n",
       "<style scoped>\n",
       "    .dataframe tbody tr th:only-of-type {\n",
       "        vertical-align: middle;\n",
       "    }\n",
       "\n",
       "    .dataframe tbody tr th {\n",
       "        vertical-align: top;\n",
       "    }\n",
       "\n",
       "    .dataframe thead th {\n",
       "        text-align: right;\n",
       "    }\n",
       "</style>\n",
       "<table border=\"1\" class=\"dataframe\">\n",
       "  <thead>\n",
       "    <tr style=\"text-align: right;\">\n",
       "      <th></th>\n",
       "      <th>title</th>\n",
       "      <th>selftext</th>\n",
       "      <th>created_utc</th>\n",
       "      <th>subreddit</th>\n",
       "    </tr>\n",
       "  </thead>\n",
       "  <tbody>\n",
       "    <tr>\n",
       "      <th>0</th>\n",
       "      <td>Stills from our upcoming feature film ‘BILLY S...</td>\n",
       "      <td></td>\n",
       "      <td>1621199378</td>\n",
       "      <td>cinematography</td>\n",
       "    </tr>\n",
       "    <tr>\n",
       "      <th>1</th>\n",
       "      <td>Hey Guys! I am making this film with no budget...</td>\n",
       "      <td></td>\n",
       "      <td>1621195757</td>\n",
       "      <td>cinematography</td>\n",
       "    </tr>\n",
       "    <tr>\n",
       "      <th>2</th>\n",
       "      <td>360° 4K 30fps Footage Taken With A 360Rize 360...</td>\n",
       "      <td></td>\n",
       "      <td>1621191866</td>\n",
       "      <td>cinematography</td>\n",
       "    </tr>\n",
       "    <tr>\n",
       "      <th>3</th>\n",
       "      <td>Smallrig Matte Box w/ Xeen 50mm T1.5 CF</td>\n",
       "      <td>Hello there\\n\\nI've been looking for some matt...</td>\n",
       "      <td>1621190405</td>\n",
       "      <td>cinematography</td>\n",
       "    </tr>\n",
       "    <tr>\n",
       "      <th>4</th>\n",
       "      <td>Do you have tips to improve my videos?</td>\n",
       "      <td></td>\n",
       "      <td>1621189562</td>\n",
       "      <td>cinematography</td>\n",
       "    </tr>\n",
       "    <tr>\n",
       "      <th>...</th>\n",
       "      <td>...</td>\n",
       "      <td>...</td>\n",
       "      <td>...</td>\n",
       "      <td>...</td>\n",
       "    </tr>\n",
       "    <tr>\n",
       "      <th>595</th>\n",
       "      <td>Using auto focus on someones head, then switch...</td>\n",
       "      <td>The reason i do this is because when i manuall...</td>\n",
       "      <td>1625795596</td>\n",
       "      <td>cinematography</td>\n",
       "    </tr>\n",
       "    <tr>\n",
       "      <th>596</th>\n",
       "      <td>Movi Cinema Robot w/ 12 Pro Max &amp;amp; Moment l...</td>\n",
       "      <td></td>\n",
       "      <td>1625784323</td>\n",
       "      <td>cinematography</td>\n",
       "    </tr>\n",
       "    <tr>\n",
       "      <th>597</th>\n",
       "      <td>Always get excited when this name shows up in ...</td>\n",
       "      <td></td>\n",
       "      <td>1625782949</td>\n",
       "      <td>cinematography</td>\n",
       "    </tr>\n",
       "    <tr>\n",
       "      <th>598</th>\n",
       "      <td>Experimental short advice?</td>\n",
       "      <td>So I got some spare time on my hands, I finall...</td>\n",
       "      <td>1625782388</td>\n",
       "      <td>cinematography</td>\n",
       "    </tr>\n",
       "    <tr>\n",
       "      <th>599</th>\n",
       "      <td>Does anyone know who shot the transparent soul...</td>\n",
       "      <td>If anyone knows who shot or directed it I woul...</td>\n",
       "      <td>1625782340</td>\n",
       "      <td>cinematography</td>\n",
       "    </tr>\n",
       "  </tbody>\n",
       "</table>\n",
       "<p>600 rows × 4 columns</p>\n",
       "</div>"
      ],
      "text/plain": [
       "                                                 title  \\\n",
       "0    Stills from our upcoming feature film ‘BILLY S...   \n",
       "1    Hey Guys! I am making this film with no budget...   \n",
       "2    360° 4K 30fps Footage Taken With A 360Rize 360...   \n",
       "3              Smallrig Matte Box w/ Xeen 50mm T1.5 CF   \n",
       "4               Do you have tips to improve my videos?   \n",
       "..                                                 ...   \n",
       "595  Using auto focus on someones head, then switch...   \n",
       "596  Movi Cinema Robot w/ 12 Pro Max &amp; Moment l...   \n",
       "597  Always get excited when this name shows up in ...   \n",
       "598                         Experimental short advice?   \n",
       "599  Does anyone know who shot the transparent soul...   \n",
       "\n",
       "                                              selftext  created_utc  \\\n",
       "0                                                        1621199378   \n",
       "1                                                        1621195757   \n",
       "2                                                        1621191866   \n",
       "3    Hello there\\n\\nI've been looking for some matt...   1621190405   \n",
       "4                                                        1621189562   \n",
       "..                                                 ...          ...   \n",
       "595  The reason i do this is because when i manuall...   1625795596   \n",
       "596                                                      1625784323   \n",
       "597                                                      1625782949   \n",
       "598  So I got some spare time on my hands, I finall...   1625782388   \n",
       "599  If anyone knows who shot or directed it I woul...   1625782340   \n",
       "\n",
       "          subreddit  \n",
       "0    cinematography  \n",
       "1    cinematography  \n",
       "2    cinematography  \n",
       "3    cinematography  \n",
       "4    cinematography  \n",
       "..              ...  \n",
       "595  cinematography  \n",
       "596  cinematography  \n",
       "597  cinematography  \n",
       "598  cinematography  \n",
       "599  cinematography  \n",
       "\n",
       "[600 rows x 4 columns]"
      ]
     },
     "execution_count": 17,
     "metadata": {},
     "output_type": "execute_result"
    }
   ],
   "source": [
    "# the first 600 rows\n",
    "for i in range(1, 7):\n",
    "    change_utc = '162' + str(i) + '205624'\n",
    "    changet_utc = int(change_utc)\n",
    "    params_wp = {\n",
    "        'subreddit': 'cinematography',\n",
    "        'size': 100,\n",
    "        'before': change_utc\n",
    "    }\n",
    "    res = requests.get(url, params_wp)\n",
    "    res.status_code\n",
    "    data = res.json()\n",
    "    posts = data['data']\n",
    "    df_2 = pd.DataFrame(posts)\n",
    "    df_2 = df_2[['title', 'selftext', 'created_utc','subreddit']]\n",
    "    df_c = df_c.append(df_2, ignore_index = True)\n",
    "\n",
    "df_c"
   ]
  },
  {
   "cell_type": "code",
   "execution_count": 18,
   "metadata": {},
   "outputs": [
    {
     "data": {
      "text/html": [
       "<div>\n",
       "<style scoped>\n",
       "    .dataframe tbody tr th:only-of-type {\n",
       "        vertical-align: middle;\n",
       "    }\n",
       "\n",
       "    .dataframe tbody tr th {\n",
       "        vertical-align: top;\n",
       "    }\n",
       "\n",
       "    .dataframe thead th {\n",
       "        text-align: right;\n",
       "    }\n",
       "</style>\n",
       "<table border=\"1\" class=\"dataframe\">\n",
       "  <thead>\n",
       "    <tr style=\"text-align: right;\">\n",
       "      <th></th>\n",
       "      <th>title</th>\n",
       "      <th>selftext</th>\n",
       "      <th>created_utc</th>\n",
       "      <th>subreddit</th>\n",
       "    </tr>\n",
       "  </thead>\n",
       "  <tbody>\n",
       "    <tr>\n",
       "      <th>0</th>\n",
       "      <td>Stills from our upcoming feature film ‘BILLY S...</td>\n",
       "      <td></td>\n",
       "      <td>1621199378</td>\n",
       "      <td>cinematography</td>\n",
       "    </tr>\n",
       "    <tr>\n",
       "      <th>1</th>\n",
       "      <td>Hey Guys! I am making this film with no budget...</td>\n",
       "      <td></td>\n",
       "      <td>1621195757</td>\n",
       "      <td>cinematography</td>\n",
       "    </tr>\n",
       "    <tr>\n",
       "      <th>2</th>\n",
       "      <td>360° 4K 30fps Footage Taken With A 360Rize 360...</td>\n",
       "      <td></td>\n",
       "      <td>1621191866</td>\n",
       "      <td>cinematography</td>\n",
       "    </tr>\n",
       "    <tr>\n",
       "      <th>3</th>\n",
       "      <td>Smallrig Matte Box w/ Xeen 50mm T1.5 CF</td>\n",
       "      <td>Hello there\\n\\nI've been looking for some matt...</td>\n",
       "      <td>1621190405</td>\n",
       "      <td>cinematography</td>\n",
       "    </tr>\n",
       "    <tr>\n",
       "      <th>4</th>\n",
       "      <td>Do you have tips to improve my videos?</td>\n",
       "      <td></td>\n",
       "      <td>1621189562</td>\n",
       "      <td>cinematography</td>\n",
       "    </tr>\n",
       "    <tr>\n",
       "      <th>...</th>\n",
       "      <td>...</td>\n",
       "      <td>...</td>\n",
       "      <td>...</td>\n",
       "      <td>...</td>\n",
       "    </tr>\n",
       "    <tr>\n",
       "      <th>1195</th>\n",
       "      <td>Using auto focus on someones head, then switch...</td>\n",
       "      <td>The reason i do this is because when i manuall...</td>\n",
       "      <td>1625795596</td>\n",
       "      <td>cinematography</td>\n",
       "    </tr>\n",
       "    <tr>\n",
       "      <th>1196</th>\n",
       "      <td>Movi Cinema Robot w/ 12 Pro Max &amp;amp; Moment l...</td>\n",
       "      <td></td>\n",
       "      <td>1625784323</td>\n",
       "      <td>cinematography</td>\n",
       "    </tr>\n",
       "    <tr>\n",
       "      <th>1197</th>\n",
       "      <td>Always get excited when this name shows up in ...</td>\n",
       "      <td></td>\n",
       "      <td>1625782949</td>\n",
       "      <td>cinematography</td>\n",
       "    </tr>\n",
       "    <tr>\n",
       "      <th>1198</th>\n",
       "      <td>Experimental short advice?</td>\n",
       "      <td>So I got some spare time on my hands, I finall...</td>\n",
       "      <td>1625782388</td>\n",
       "      <td>cinematography</td>\n",
       "    </tr>\n",
       "    <tr>\n",
       "      <th>1199</th>\n",
       "      <td>Does anyone know who shot the transparent soul...</td>\n",
       "      <td>If anyone knows who shot or directed it I woul...</td>\n",
       "      <td>1625782340</td>\n",
       "      <td>cinematography</td>\n",
       "    </tr>\n",
       "  </tbody>\n",
       "</table>\n",
       "<p>1200 rows × 4 columns</p>\n",
       "</div>"
      ],
      "text/plain": [
       "                                                  title  \\\n",
       "0     Stills from our upcoming feature film ‘BILLY S...   \n",
       "1     Hey Guys! I am making this film with no budget...   \n",
       "2     360° 4K 30fps Footage Taken With A 360Rize 360...   \n",
       "3               Smallrig Matte Box w/ Xeen 50mm T1.5 CF   \n",
       "4                Do you have tips to improve my videos?   \n",
       "...                                                 ...   \n",
       "1195  Using auto focus on someones head, then switch...   \n",
       "1196  Movi Cinema Robot w/ 12 Pro Max &amp; Moment l...   \n",
       "1197  Always get excited when this name shows up in ...   \n",
       "1198                         Experimental short advice?   \n",
       "1199  Does anyone know who shot the transparent soul...   \n",
       "\n",
       "                                               selftext  created_utc  \\\n",
       "0                                                         1621199378   \n",
       "1                                                         1621195757   \n",
       "2                                                         1621191866   \n",
       "3     Hello there\\n\\nI've been looking for some matt...   1621190405   \n",
       "4                                                         1621189562   \n",
       "...                                                 ...          ...   \n",
       "1195  The reason i do this is because when i manuall...   1625795596   \n",
       "1196                                                      1625784323   \n",
       "1197                                                      1625782949   \n",
       "1198  So I got some spare time on my hands, I finall...   1625782388   \n",
       "1199  If anyone knows who shot or directed it I woul...   1625782340   \n",
       "\n",
       "           subreddit  \n",
       "0     cinematography  \n",
       "1     cinematography  \n",
       "2     cinematography  \n",
       "3     cinematography  \n",
       "4     cinematography  \n",
       "...              ...  \n",
       "1195  cinematography  \n",
       "1196  cinematography  \n",
       "1197  cinematography  \n",
       "1198  cinematography  \n",
       "1199  cinematography  \n",
       "\n",
       "[1200 rows x 4 columns]"
      ]
     },
     "execution_count": 18,
     "metadata": {},
     "output_type": "execute_result"
    }
   ],
   "source": [
    "# the second 600 rows and then append to the previous df_c\n",
    "for i in range(1, 7):\n",
    "    change_utc = '162' + str(i) + '205624'\n",
    "    changet_utc = int(change_utc)\n",
    "    params_wp = {\n",
    "        'subreddit': 'cinematography',\n",
    "        'size': 100,\n",
    "        'before': change_utc\n",
    "    }\n",
    "    res = requests.get(url, params_wp)\n",
    "    res.status_code\n",
    "    data = res.json()\n",
    "    posts = data['data']\n",
    "    df_2c = pd.DataFrame(posts)\n",
    "    df_2c = df_2c[['title', 'selftext', 'created_utc','subreddit']]\n",
    "    df_c = df_c.append(df_2c, ignore_index = True)\n",
    "\n",
    "df_c"
   ]
  },
  {
   "cell_type": "code",
   "execution_count": 19,
   "metadata": {},
   "outputs": [
    {
     "data": {
      "text/html": [
       "<div>\n",
       "<style scoped>\n",
       "    .dataframe tbody tr th:only-of-type {\n",
       "        vertical-align: middle;\n",
       "    }\n",
       "\n",
       "    .dataframe tbody tr th {\n",
       "        vertical-align: top;\n",
       "    }\n",
       "\n",
       "    .dataframe thead th {\n",
       "        text-align: right;\n",
       "    }\n",
       "</style>\n",
       "<table border=\"1\" class=\"dataframe\">\n",
       "  <thead>\n",
       "    <tr style=\"text-align: right;\">\n",
       "      <th></th>\n",
       "      <th>title</th>\n",
       "      <th>selftext</th>\n",
       "      <th>created_utc</th>\n",
       "      <th>subreddit</th>\n",
       "      <th>text</th>\n",
       "    </tr>\n",
       "  </thead>\n",
       "  <tbody>\n",
       "    <tr>\n",
       "      <th>0</th>\n",
       "      <td>Stills from our upcoming feature film ‘BILLY S...</td>\n",
       "      <td></td>\n",
       "      <td>1621199378</td>\n",
       "      <td>cinematography</td>\n",
       "      <td>Stills from our upcoming feature film ‘BILLY S...</td>\n",
       "    </tr>\n",
       "    <tr>\n",
       "      <th>1</th>\n",
       "      <td>Hey Guys! I am making this film with no budget...</td>\n",
       "      <td></td>\n",
       "      <td>1621195757</td>\n",
       "      <td>cinematography</td>\n",
       "      <td>Hey Guys! I am making this film with no budget...</td>\n",
       "    </tr>\n",
       "    <tr>\n",
       "      <th>2</th>\n",
       "      <td>360° 4K 30fps Footage Taken With A 360Rize 360...</td>\n",
       "      <td></td>\n",
       "      <td>1621191866</td>\n",
       "      <td>cinematography</td>\n",
       "      <td>360° 4K 30fps Footage Taken With A 360Rize 360...</td>\n",
       "    </tr>\n",
       "    <tr>\n",
       "      <th>3</th>\n",
       "      <td>Smallrig Matte Box w/ Xeen 50mm T1.5 CF</td>\n",
       "      <td>Hello there\\n\\nI've been looking for some matt...</td>\n",
       "      <td>1621190405</td>\n",
       "      <td>cinematography</td>\n",
       "      <td>Smallrig Matte Box w/ Xeen 50mm T1.5 CFHello t...</td>\n",
       "    </tr>\n",
       "    <tr>\n",
       "      <th>4</th>\n",
       "      <td>Do you have tips to improve my videos?</td>\n",
       "      <td></td>\n",
       "      <td>1621189562</td>\n",
       "      <td>cinematography</td>\n",
       "      <td>Do you have tips to improve my videos?</td>\n",
       "    </tr>\n",
       "    <tr>\n",
       "      <th>...</th>\n",
       "      <td>...</td>\n",
       "      <td>...</td>\n",
       "      <td>...</td>\n",
       "      <td>...</td>\n",
       "      <td>...</td>\n",
       "    </tr>\n",
       "    <tr>\n",
       "      <th>1195</th>\n",
       "      <td>Using auto focus on someones head, then switch...</td>\n",
       "      <td>The reason i do this is because when i manuall...</td>\n",
       "      <td>1625795596</td>\n",
       "      <td>cinematography</td>\n",
       "      <td>Using auto focus on someones head, then switch...</td>\n",
       "    </tr>\n",
       "    <tr>\n",
       "      <th>1196</th>\n",
       "      <td>Movi Cinema Robot w/ 12 Pro Max &amp;amp; Moment l...</td>\n",
       "      <td></td>\n",
       "      <td>1625784323</td>\n",
       "      <td>cinematography</td>\n",
       "      <td>Movi Cinema Robot w/ 12 Pro Max &amp;amp; Moment l...</td>\n",
       "    </tr>\n",
       "    <tr>\n",
       "      <th>1197</th>\n",
       "      <td>Always get excited when this name shows up in ...</td>\n",
       "      <td></td>\n",
       "      <td>1625782949</td>\n",
       "      <td>cinematography</td>\n",
       "      <td>Always get excited when this name shows up in ...</td>\n",
       "    </tr>\n",
       "    <tr>\n",
       "      <th>1198</th>\n",
       "      <td>Experimental short advice?</td>\n",
       "      <td>So I got some spare time on my hands, I finall...</td>\n",
       "      <td>1625782388</td>\n",
       "      <td>cinematography</td>\n",
       "      <td>Experimental short advice?So I got some spare ...</td>\n",
       "    </tr>\n",
       "    <tr>\n",
       "      <th>1199</th>\n",
       "      <td>Does anyone know who shot the transparent soul...</td>\n",
       "      <td>If anyone knows who shot or directed it I woul...</td>\n",
       "      <td>1625782340</td>\n",
       "      <td>cinematography</td>\n",
       "      <td>Does anyone know who shot the transparent soul...</td>\n",
       "    </tr>\n",
       "  </tbody>\n",
       "</table>\n",
       "<p>1200 rows × 5 columns</p>\n",
       "</div>"
      ],
      "text/plain": [
       "                                                  title  \\\n",
       "0     Stills from our upcoming feature film ‘BILLY S...   \n",
       "1     Hey Guys! I am making this film with no budget...   \n",
       "2     360° 4K 30fps Footage Taken With A 360Rize 360...   \n",
       "3               Smallrig Matte Box w/ Xeen 50mm T1.5 CF   \n",
       "4                Do you have tips to improve my videos?   \n",
       "...                                                 ...   \n",
       "1195  Using auto focus on someones head, then switch...   \n",
       "1196  Movi Cinema Robot w/ 12 Pro Max &amp; Moment l...   \n",
       "1197  Always get excited when this name shows up in ...   \n",
       "1198                         Experimental short advice?   \n",
       "1199  Does anyone know who shot the transparent soul...   \n",
       "\n",
       "                                               selftext  created_utc  \\\n",
       "0                                                         1621199378   \n",
       "1                                                         1621195757   \n",
       "2                                                         1621191866   \n",
       "3     Hello there\\n\\nI've been looking for some matt...   1621190405   \n",
       "4                                                         1621189562   \n",
       "...                                                 ...          ...   \n",
       "1195  The reason i do this is because when i manuall...   1625795596   \n",
       "1196                                                      1625784323   \n",
       "1197                                                      1625782949   \n",
       "1198  So I got some spare time on my hands, I finall...   1625782388   \n",
       "1199  If anyone knows who shot or directed it I woul...   1625782340   \n",
       "\n",
       "           subreddit                                               text  \n",
       "0     cinematography  Stills from our upcoming feature film ‘BILLY S...  \n",
       "1     cinematography  Hey Guys! I am making this film with no budget...  \n",
       "2     cinematography  360° 4K 30fps Footage Taken With A 360Rize 360...  \n",
       "3     cinematography  Smallrig Matte Box w/ Xeen 50mm T1.5 CFHello t...  \n",
       "4     cinematography             Do you have tips to improve my videos?  \n",
       "...              ...                                                ...  \n",
       "1195  cinematography  Using auto focus on someones head, then switch...  \n",
       "1196  cinematography  Movi Cinema Robot w/ 12 Pro Max &amp; Moment l...  \n",
       "1197  cinematography  Always get excited when this name shows up in ...  \n",
       "1198  cinematography  Experimental short advice?So I got some spare ...  \n",
       "1199  cinematography  Does anyone know who shot the transparent soul...  \n",
       "\n",
       "[1200 rows x 5 columns]"
      ]
     },
     "execution_count": 19,
     "metadata": {},
     "output_type": "execute_result"
    }
   ],
   "source": [
    "df_c['text'] = df_c['title'] + df_c['selftext']\n",
    "df_c"
   ]
  },
  {
   "cell_type": "code",
   "execution_count": 20,
   "metadata": {},
   "outputs": [
    {
     "data": {
      "text/plain": [
       "title          0\n",
       "selftext       0\n",
       "created_utc    0\n",
       "subreddit      0\n",
       "text           0\n",
       "dtype: int64"
      ]
     },
     "execution_count": 20,
     "metadata": {},
     "output_type": "execute_result"
    }
   ],
   "source": [
    "df_c.isnull().sum()"
   ]
  },
  {
   "cell_type": "code",
   "execution_count": 21,
   "metadata": {},
   "outputs": [
    {
     "name": "stdout",
     "output_type": "stream",
     "text": [
      "<class 'pandas.core.frame.DataFrame'>\n",
      "RangeIndex: 1200 entries, 0 to 1199\n",
      "Data columns (total 5 columns):\n",
      " #   Column       Non-Null Count  Dtype \n",
      "---  ------       --------------  ----- \n",
      " 0   title        1200 non-null   object\n",
      " 1   selftext     1200 non-null   object\n",
      " 2   created_utc  1200 non-null   int64 \n",
      " 3   subreddit    1200 non-null   object\n",
      " 4   text         1200 non-null   object\n",
      "dtypes: int64(1), object(4)\n",
      "memory usage: 47.0+ KB\n"
     ]
    }
   ],
   "source": [
    "df_c.info()"
   ]
  },
  {
   "cell_type": "markdown",
   "metadata": {},
   "source": [
    "### Combine df_wp, df_fp, & df_c"
   ]
  },
  {
   "cell_type": "code",
   "execution_count": 22,
   "metadata": {},
   "outputs": [
    {
     "name": "stdout",
     "output_type": "stream",
     "text": [
      "<class 'pandas.core.frame.DataFrame'>\n",
      "RangeIndex: 2391 entries, 0 to 2390\n",
      "Data columns (total 5 columns):\n",
      " #   Column       Non-Null Count  Dtype \n",
      "---  ------       --------------  ----- \n",
      " 0   title        2391 non-null   object\n",
      " 1   selftext     2391 non-null   object\n",
      " 2   created_utc  2391 non-null   int64 \n",
      " 3   subreddit    2391 non-null   object\n",
      " 4   text         2391 non-null   object\n",
      "dtypes: int64(1), object(4)\n",
      "memory usage: 93.5+ KB\n"
     ]
    }
   ],
   "source": [
    "df_half_full = df_wp.append(df_fp, ignore_index = True)\n",
    "df_half_full.info()"
   ]
  },
  {
   "cell_type": "code",
   "execution_count": 23,
   "metadata": {},
   "outputs": [
    {
     "name": "stdout",
     "output_type": "stream",
     "text": [
      "<class 'pandas.core.frame.DataFrame'>\n",
      "RangeIndex: 3591 entries, 0 to 3590\n",
      "Data columns (total 5 columns):\n",
      " #   Column       Non-Null Count  Dtype \n",
      "---  ------       --------------  ----- \n",
      " 0   title        3591 non-null   object\n",
      " 1   selftext     3591 non-null   object\n",
      " 2   created_utc  3591 non-null   int64 \n",
      " 3   subreddit    3591 non-null   object\n",
      " 4   text         3591 non-null   object\n",
      "dtypes: int64(1), object(4)\n",
      "memory usage: 140.4+ KB\n"
     ]
    }
   ],
   "source": [
    "df_full = df_half_full.append(df_c, ignore_index = True)\n",
    "df_full.info()"
   ]
  },
  {
   "cell_type": "code",
   "execution_count": 24,
   "metadata": {},
   "outputs": [
    {
     "data": {
      "text/html": [
       "<div>\n",
       "<style scoped>\n",
       "    .dataframe tbody tr th:only-of-type {\n",
       "        vertical-align: middle;\n",
       "    }\n",
       "\n",
       "    .dataframe tbody tr th {\n",
       "        vertical-align: top;\n",
       "    }\n",
       "\n",
       "    .dataframe thead th {\n",
       "        text-align: right;\n",
       "    }\n",
       "</style>\n",
       "<table border=\"1\" class=\"dataframe\">\n",
       "  <thead>\n",
       "    <tr style=\"text-align: right;\">\n",
       "      <th></th>\n",
       "      <th>subreddit</th>\n",
       "      <th>text</th>\n",
       "    </tr>\n",
       "  </thead>\n",
       "  <tbody>\n",
       "    <tr>\n",
       "      <th>0</th>\n",
       "      <td>WeddingPhotography</td>\n",
       "      <td>Establishing a couples engagement/wedding port...</td>\n",
       "    </tr>\n",
       "    <tr>\n",
       "      <th>1</th>\n",
       "      <td>WeddingPhotography</td>\n",
       "      <td>EF 70-200 or RF 70-200Hi, \\n\\nI am looking to ...</td>\n",
       "    </tr>\n",
       "    <tr>\n",
       "      <th>2</th>\n",
       "      <td>WeddingPhotography</td>\n",
       "      <td>Absolutely thrilled with how my second wedding...</td>\n",
       "    </tr>\n",
       "    <tr>\n",
       "      <th>3</th>\n",
       "      <td>WeddingPhotography</td>\n",
       "      <td>Good health insurance for wedding photographer...</td>\n",
       "    </tr>\n",
       "    <tr>\n",
       "      <th>4</th>\n",
       "      <td>WeddingPhotography</td>\n",
       "      <td>Need Feedback: How to backup photos in 2021?Hi...</td>\n",
       "    </tr>\n",
       "    <tr>\n",
       "      <th>...</th>\n",
       "      <td>...</td>\n",
       "      <td>...</td>\n",
       "    </tr>\n",
       "    <tr>\n",
       "      <th>3586</th>\n",
       "      <td>cinematography</td>\n",
       "      <td>Using auto focus on someones head, then switch...</td>\n",
       "    </tr>\n",
       "    <tr>\n",
       "      <th>3587</th>\n",
       "      <td>cinematography</td>\n",
       "      <td>Movi Cinema Robot w/ 12 Pro Max &amp;amp; Moment l...</td>\n",
       "    </tr>\n",
       "    <tr>\n",
       "      <th>3588</th>\n",
       "      <td>cinematography</td>\n",
       "      <td>Always get excited when this name shows up in ...</td>\n",
       "    </tr>\n",
       "    <tr>\n",
       "      <th>3589</th>\n",
       "      <td>cinematography</td>\n",
       "      <td>Experimental short advice?So I got some spare ...</td>\n",
       "    </tr>\n",
       "    <tr>\n",
       "      <th>3590</th>\n",
       "      <td>cinematography</td>\n",
       "      <td>Does anyone know who shot the transparent soul...</td>\n",
       "    </tr>\n",
       "  </tbody>\n",
       "</table>\n",
       "<p>3591 rows × 2 columns</p>\n",
       "</div>"
      ],
      "text/plain": [
       "               subreddit                                               text\n",
       "0     WeddingPhotography  Establishing a couples engagement/wedding port...\n",
       "1     WeddingPhotography  EF 70-200 or RF 70-200Hi, \\n\\nI am looking to ...\n",
       "2     WeddingPhotography  Absolutely thrilled with how my second wedding...\n",
       "3     WeddingPhotography  Good health insurance for wedding photographer...\n",
       "4     WeddingPhotography  Need Feedback: How to backup photos in 2021?Hi...\n",
       "...                  ...                                                ...\n",
       "3586      cinematography  Using auto focus on someones head, then switch...\n",
       "3587      cinematography  Movi Cinema Robot w/ 12 Pro Max &amp; Moment l...\n",
       "3588      cinematography  Always get excited when this name shows up in ...\n",
       "3589      cinematography  Experimental short advice?So I got some spare ...\n",
       "3590      cinematography  Does anyone know who shot the transparent soul...\n",
       "\n",
       "[3591 rows x 2 columns]"
      ]
     },
     "execution_count": 24,
     "metadata": {},
     "output_type": "execute_result"
    }
   ],
   "source": [
    "df_full.drop(columns=['title', 'selftext', 'created_utc'], inplace=True)\n",
    "df_full"
   ]
  },
  {
   "cell_type": "markdown",
   "metadata": {},
   "source": [
    "Pushshift youtube video follow (link: https://youtu.be/AcrjEWsMi_E)\n",
    "<br/> params_100 = {\n",
    "    'subreddit': 'cinematography', \n",
    "    'size': 100, \n",
    "}\n",
    "<br/> res = requests.get(url, params_100)\n",
    "<br/> res.status_code\n",
    "<br/> data = res.json()\n",
    "<br/> posts = data['data']\n",
    "<br/> posts[0]\n",
    "<br/> len(posts)\n",
    "<br/> df = pd.DataFrame(posts)\n",
    "<br/> pd.set_option('display.max_columns', None)\n",
    "<br/> df.head()\n",
    "<br/> df_100 = df[['title', 'selftext', 'subreddit']]\n",
    "<br/> df_100.info()\n",
    "<br/> df_100"
   ]
  },
  {
   "cell_type": "markdown",
   "metadata": {},
   "source": [
    "### Model prep"
   ]
  },
  {
   "cell_type": "markdown",
   "metadata": {},
   "source": [
    "Convert WeddingPhotography = 0, fashionphotography = 1, and cinematography = 2"
   ]
  },
  {
   "cell_type": "code",
   "execution_count": 25,
   "metadata": {},
   "outputs": [
    {
     "name": "stderr",
     "output_type": "stream",
     "text": [
      "/Users/emmsytsui/opt/anaconda3/lib/python3.8/site-packages/sklearn/utils/deprecation.py:143: FutureWarning: The sklearn.feature_extraction.stop_words module is  deprecated in version 0.22 and will be removed in version 0.24. The corresponding classes / functions should instead be imported from sklearn.feature_extraction.text. Anything that cannot be imported from sklearn.feature_extraction.text is now part of the private API.\n",
      "  warnings.warn(message, FutureWarning)\n"
     ]
    }
   ],
   "source": [
    "from sklearn.pipeline import Pipeline\n",
    "from sklearn.model_selection import train_test_split, cross_val_score, GridSearchCV\n",
    "from sklearn.linear_model import LogisticRegression\n",
    "from sklearn.feature_extraction.text import CountVectorizer, TfidfVectorizer\n",
    "from sklearn.feature_extraction import stop_words"
   ]
  },
  {
   "cell_type": "code",
   "execution_count": 26,
   "metadata": {},
   "outputs": [
    {
     "data": {
      "text/plain": [
       "array(['WeddingPhotography', 'fashionphotography', 'cinematography'],\n",
       "      dtype=object)"
      ]
     },
     "execution_count": 26,
     "metadata": {},
     "output_type": "execute_result"
    }
   ],
   "source": [
    "df_full['subreddit'].unique()"
   ]
  },
  {
   "cell_type": "code",
   "execution_count": 27,
   "metadata": {},
   "outputs": [
    {
     "name": "stdout",
     "output_type": "stream",
     "text": [
      "<class 'pandas.core.frame.DataFrame'>\n",
      "RangeIndex: 3591 entries, 0 to 3590\n",
      "Data columns (total 2 columns):\n",
      " #   Column     Non-Null Count  Dtype \n",
      "---  ------     --------------  ----- \n",
      " 0   subreddit  3591 non-null   int64 \n",
      " 1   text       3591 non-null   object\n",
      "dtypes: int64(1), object(1)\n",
      "memory usage: 56.2+ KB\n"
     ]
    }
   ],
   "source": [
    "df_full['subreddit'] = df_full['subreddit'].map({\n",
    "    'WeddingPhotography': 0,\n",
    "    'fashionphotography': 1,\n",
    "    'cinematography': 2\n",
    "})\n",
    "df_full.info()"
   ]
  },
  {
   "cell_type": "code",
   "execution_count": 28,
   "metadata": {},
   "outputs": [
    {
     "data": {
      "text/plain": [
       "subreddit    0\n",
       "text         0\n",
       "dtype: int64"
      ]
     },
     "execution_count": 28,
     "metadata": {},
     "output_type": "execute_result"
    }
   ],
   "source": [
    "df_full.isnull().sum()"
   ]
  },
  {
   "cell_type": "code",
   "execution_count": 29,
   "metadata": {},
   "outputs": [],
   "source": [
    "X = df_full['text']\n",
    "y = df_full['subreddit']"
   ]
  },
  {
   "cell_type": "code",
   "execution_count": 30,
   "metadata": {},
   "outputs": [
    {
     "data": {
      "text/plain": [
       "2    0.334169\n",
       "0    0.333612\n",
       "1    0.332219\n",
       "Name: subreddit, dtype: float64"
      ]
     },
     "execution_count": 30,
     "metadata": {},
     "output_type": "execute_result"
    }
   ],
   "source": [
    "# check baseline value to see if we need stratification or not\n",
    "# baseline score for classification is the majority of the class, in this case it's 33.4%\n",
    "y.value_counts(normalize=True)"
   ]
  },
  {
   "cell_type": "code",
   "execution_count": 31,
   "metadata": {},
   "outputs": [],
   "source": [
    "# train test split (for CountVectorizer)\n",
    "X_train, X_test, y_train, y_test = train_test_split(X,\n",
    "                                                   y, \n",
    "                                                    test_size=0.25,\n",
    "                                                   random_state=42)"
   ]
  },
  {
   "cell_type": "markdown",
   "metadata": {},
   "source": [
    "### Logistic Regression"
   ]
  },
  {
   "cell_type": "code",
   "execution_count": 32,
   "metadata": {},
   "outputs": [],
   "source": [
    "logreg_cvec = LogisticRegression()\n",
    "logreg_tvec = LogisticRegression()"
   ]
  },
  {
   "cell_type": "markdown",
   "metadata": {},
   "source": [
    "#### Stemming is not used in this"
   ]
  },
  {
   "cell_type": "code",
   "execution_count": null,
   "metadata": {},
   "outputs": [],
   "source": []
  },
  {
   "cell_type": "markdown",
   "metadata": {},
   "source": [
    "### CountVectorizer"
   ]
  },
  {
   "cell_type": "code",
   "execution_count": 208,
   "metadata": {},
   "outputs": [
    {
     "data": {
      "text/plain": [
       "<2693x8284 sparse matrix of type '<class 'numpy.int64'>'\n",
       "\twith 60602 stored elements in Compressed Sparse Row format>"
      ]
     },
     "execution_count": 208,
     "metadata": {},
     "output_type": "execute_result"
    }
   ],
   "source": [
    "# Instantiate CountVectorizer\n",
    "cvec = CountVectorizer(stop_words='english') #token_pattern='\\w+', stop_words='english'\n",
    "\n",
    "# Fit CountVectorizer\n",
    "cvec.fit(X_train)\n",
    "\n",
    "# Transform CountVectorizer\n",
    "X_train_cvec = cvec.transform(X_train)\n",
    "\n",
    "X_train_cvec"
   ]
  },
  {
   "cell_type": "code",
   "execution_count": 209,
   "metadata": {},
   "outputs": [
    {
     "data": {
      "text/html": [
       "<div>\n",
       "<style scoped>\n",
       "    .dataframe tbody tr th:only-of-type {\n",
       "        vertical-align: middle;\n",
       "    }\n",
       "\n",
       "    .dataframe tbody tr th {\n",
       "        vertical-align: top;\n",
       "    }\n",
       "\n",
       "    .dataframe thead th {\n",
       "        text-align: right;\n",
       "    }\n",
       "</style>\n",
       "<table border=\"1\" class=\"dataframe\">\n",
       "  <thead>\n",
       "    <tr style=\"text-align: right;\">\n",
       "      <th></th>\n",
       "      <th>00</th>\n",
       "      <th>000</th>\n",
       "      <th>00p</th>\n",
       "      <th>00slightly</th>\n",
       "      <th>0156</th>\n",
       "      <th>020a627f81d6b7845512adaebd3405d607afe113</th>\n",
       "      <th>03</th>\n",
       "      <th>032c</th>\n",
       "      <th>05</th>\n",
       "      <th>07</th>\n",
       "      <th>...</th>\n",
       "      <th>оwn</th>\n",
       "      <th>рiсk</th>\n",
       "      <th>раssed</th>\n",
       "      <th>раssеd</th>\n",
       "      <th>саlled</th>\n",
       "      <th>саllеd</th>\n",
       "      <th>соuplе</th>\n",
       "      <th>റഞ</th>\n",
       "      <th>ലയ</th>\n",
       "      <th>𝘚𝘩𝘦𝘦𝘱𝘴𝘬𝘪𝘯</th>\n",
       "    </tr>\n",
       "  </thead>\n",
       "  <tbody>\n",
       "    <tr>\n",
       "      <th>0</th>\n",
       "      <td>0</td>\n",
       "      <td>0</td>\n",
       "      <td>0</td>\n",
       "      <td>0</td>\n",
       "      <td>0</td>\n",
       "      <td>0</td>\n",
       "      <td>0</td>\n",
       "      <td>0</td>\n",
       "      <td>0</td>\n",
       "      <td>0</td>\n",
       "      <td>...</td>\n",
       "      <td>0</td>\n",
       "      <td>0</td>\n",
       "      <td>0</td>\n",
       "      <td>0</td>\n",
       "      <td>0</td>\n",
       "      <td>0</td>\n",
       "      <td>0</td>\n",
       "      <td>0</td>\n",
       "      <td>0</td>\n",
       "      <td>0</td>\n",
       "    </tr>\n",
       "    <tr>\n",
       "      <th>1</th>\n",
       "      <td>0</td>\n",
       "      <td>0</td>\n",
       "      <td>0</td>\n",
       "      <td>0</td>\n",
       "      <td>0</td>\n",
       "      <td>0</td>\n",
       "      <td>0</td>\n",
       "      <td>0</td>\n",
       "      <td>0</td>\n",
       "      <td>0</td>\n",
       "      <td>...</td>\n",
       "      <td>0</td>\n",
       "      <td>0</td>\n",
       "      <td>0</td>\n",
       "      <td>0</td>\n",
       "      <td>0</td>\n",
       "      <td>0</td>\n",
       "      <td>0</td>\n",
       "      <td>0</td>\n",
       "      <td>0</td>\n",
       "      <td>0</td>\n",
       "    </tr>\n",
       "    <tr>\n",
       "      <th>2</th>\n",
       "      <td>0</td>\n",
       "      <td>0</td>\n",
       "      <td>0</td>\n",
       "      <td>0</td>\n",
       "      <td>0</td>\n",
       "      <td>0</td>\n",
       "      <td>0</td>\n",
       "      <td>0</td>\n",
       "      <td>0</td>\n",
       "      <td>0</td>\n",
       "      <td>...</td>\n",
       "      <td>0</td>\n",
       "      <td>0</td>\n",
       "      <td>0</td>\n",
       "      <td>0</td>\n",
       "      <td>0</td>\n",
       "      <td>0</td>\n",
       "      <td>0</td>\n",
       "      <td>0</td>\n",
       "      <td>0</td>\n",
       "      <td>0</td>\n",
       "    </tr>\n",
       "    <tr>\n",
       "      <th>3</th>\n",
       "      <td>0</td>\n",
       "      <td>0</td>\n",
       "      <td>0</td>\n",
       "      <td>0</td>\n",
       "      <td>0</td>\n",
       "      <td>0</td>\n",
       "      <td>0</td>\n",
       "      <td>0</td>\n",
       "      <td>0</td>\n",
       "      <td>0</td>\n",
       "      <td>...</td>\n",
       "      <td>0</td>\n",
       "      <td>0</td>\n",
       "      <td>0</td>\n",
       "      <td>0</td>\n",
       "      <td>0</td>\n",
       "      <td>0</td>\n",
       "      <td>0</td>\n",
       "      <td>0</td>\n",
       "      <td>0</td>\n",
       "      <td>0</td>\n",
       "    </tr>\n",
       "    <tr>\n",
       "      <th>4</th>\n",
       "      <td>0</td>\n",
       "      <td>0</td>\n",
       "      <td>0</td>\n",
       "      <td>0</td>\n",
       "      <td>0</td>\n",
       "      <td>0</td>\n",
       "      <td>0</td>\n",
       "      <td>0</td>\n",
       "      <td>0</td>\n",
       "      <td>0</td>\n",
       "      <td>...</td>\n",
       "      <td>0</td>\n",
       "      <td>0</td>\n",
       "      <td>0</td>\n",
       "      <td>0</td>\n",
       "      <td>0</td>\n",
       "      <td>0</td>\n",
       "      <td>0</td>\n",
       "      <td>0</td>\n",
       "      <td>0</td>\n",
       "      <td>0</td>\n",
       "    </tr>\n",
       "    <tr>\n",
       "      <th>...</th>\n",
       "      <td>...</td>\n",
       "      <td>...</td>\n",
       "      <td>...</td>\n",
       "      <td>...</td>\n",
       "      <td>...</td>\n",
       "      <td>...</td>\n",
       "      <td>...</td>\n",
       "      <td>...</td>\n",
       "      <td>...</td>\n",
       "      <td>...</td>\n",
       "      <td>...</td>\n",
       "      <td>...</td>\n",
       "      <td>...</td>\n",
       "      <td>...</td>\n",
       "      <td>...</td>\n",
       "      <td>...</td>\n",
       "      <td>...</td>\n",
       "      <td>...</td>\n",
       "      <td>...</td>\n",
       "      <td>...</td>\n",
       "      <td>...</td>\n",
       "    </tr>\n",
       "    <tr>\n",
       "      <th>2688</th>\n",
       "      <td>0</td>\n",
       "      <td>0</td>\n",
       "      <td>0</td>\n",
       "      <td>0</td>\n",
       "      <td>0</td>\n",
       "      <td>0</td>\n",
       "      <td>0</td>\n",
       "      <td>0</td>\n",
       "      <td>0</td>\n",
       "      <td>0</td>\n",
       "      <td>...</td>\n",
       "      <td>0</td>\n",
       "      <td>0</td>\n",
       "      <td>0</td>\n",
       "      <td>0</td>\n",
       "      <td>0</td>\n",
       "      <td>0</td>\n",
       "      <td>0</td>\n",
       "      <td>0</td>\n",
       "      <td>0</td>\n",
       "      <td>0</td>\n",
       "    </tr>\n",
       "    <tr>\n",
       "      <th>2689</th>\n",
       "      <td>0</td>\n",
       "      <td>0</td>\n",
       "      <td>0</td>\n",
       "      <td>0</td>\n",
       "      <td>0</td>\n",
       "      <td>0</td>\n",
       "      <td>0</td>\n",
       "      <td>0</td>\n",
       "      <td>0</td>\n",
       "      <td>0</td>\n",
       "      <td>...</td>\n",
       "      <td>0</td>\n",
       "      <td>0</td>\n",
       "      <td>0</td>\n",
       "      <td>0</td>\n",
       "      <td>0</td>\n",
       "      <td>0</td>\n",
       "      <td>0</td>\n",
       "      <td>0</td>\n",
       "      <td>0</td>\n",
       "      <td>0</td>\n",
       "    </tr>\n",
       "    <tr>\n",
       "      <th>2690</th>\n",
       "      <td>0</td>\n",
       "      <td>0</td>\n",
       "      <td>0</td>\n",
       "      <td>0</td>\n",
       "      <td>0</td>\n",
       "      <td>0</td>\n",
       "      <td>0</td>\n",
       "      <td>0</td>\n",
       "      <td>0</td>\n",
       "      <td>0</td>\n",
       "      <td>...</td>\n",
       "      <td>0</td>\n",
       "      <td>0</td>\n",
       "      <td>0</td>\n",
       "      <td>0</td>\n",
       "      <td>0</td>\n",
       "      <td>0</td>\n",
       "      <td>0</td>\n",
       "      <td>0</td>\n",
       "      <td>0</td>\n",
       "      <td>0</td>\n",
       "    </tr>\n",
       "    <tr>\n",
       "      <th>2691</th>\n",
       "      <td>0</td>\n",
       "      <td>0</td>\n",
       "      <td>0</td>\n",
       "      <td>0</td>\n",
       "      <td>0</td>\n",
       "      <td>0</td>\n",
       "      <td>0</td>\n",
       "      <td>0</td>\n",
       "      <td>0</td>\n",
       "      <td>0</td>\n",
       "      <td>...</td>\n",
       "      <td>0</td>\n",
       "      <td>0</td>\n",
       "      <td>0</td>\n",
       "      <td>0</td>\n",
       "      <td>0</td>\n",
       "      <td>0</td>\n",
       "      <td>0</td>\n",
       "      <td>0</td>\n",
       "      <td>0</td>\n",
       "      <td>0</td>\n",
       "    </tr>\n",
       "    <tr>\n",
       "      <th>2692</th>\n",
       "      <td>0</td>\n",
       "      <td>0</td>\n",
       "      <td>0</td>\n",
       "      <td>0</td>\n",
       "      <td>0</td>\n",
       "      <td>0</td>\n",
       "      <td>0</td>\n",
       "      <td>0</td>\n",
       "      <td>0</td>\n",
       "      <td>0</td>\n",
       "      <td>...</td>\n",
       "      <td>0</td>\n",
       "      <td>0</td>\n",
       "      <td>0</td>\n",
       "      <td>0</td>\n",
       "      <td>0</td>\n",
       "      <td>0</td>\n",
       "      <td>0</td>\n",
       "      <td>0</td>\n",
       "      <td>0</td>\n",
       "      <td>0</td>\n",
       "    </tr>\n",
       "  </tbody>\n",
       "</table>\n",
       "<p>2693 rows × 8284 columns</p>\n",
       "</div>"
      ],
      "text/plain": [
       "      00  000  00p  00slightly  0156  \\\n",
       "0      0    0    0           0     0   \n",
       "1      0    0    0           0     0   \n",
       "2      0    0    0           0     0   \n",
       "3      0    0    0           0     0   \n",
       "4      0    0    0           0     0   \n",
       "...   ..  ...  ...         ...   ...   \n",
       "2688   0    0    0           0     0   \n",
       "2689   0    0    0           0     0   \n",
       "2690   0    0    0           0     0   \n",
       "2691   0    0    0           0     0   \n",
       "2692   0    0    0           0     0   \n",
       "\n",
       "      020a627f81d6b7845512adaebd3405d607afe113  03  032c  05  07  ...  оwn  \\\n",
       "0                                            0   0     0   0   0  ...    0   \n",
       "1                                            0   0     0   0   0  ...    0   \n",
       "2                                            0   0     0   0   0  ...    0   \n",
       "3                                            0   0     0   0   0  ...    0   \n",
       "4                                            0   0     0   0   0  ...    0   \n",
       "...                                        ...  ..   ...  ..  ..  ...  ...   \n",
       "2688                                         0   0     0   0   0  ...    0   \n",
       "2689                                         0   0     0   0   0  ...    0   \n",
       "2690                                         0   0     0   0   0  ...    0   \n",
       "2691                                         0   0     0   0   0  ...    0   \n",
       "2692                                         0   0     0   0   0  ...    0   \n",
       "\n",
       "      рiсk  раssed  раssеd  саlled  саllеd  соuplе  റഞ  ലയ  𝘚𝘩𝘦𝘦𝘱𝘴𝘬𝘪𝘯  \n",
       "0        0       0       0       0       0       0   0   0          0  \n",
       "1        0       0       0       0       0       0   0   0          0  \n",
       "2        0       0       0       0       0       0   0   0          0  \n",
       "3        0       0       0       0       0       0   0   0          0  \n",
       "4        0       0       0       0       0       0   0   0          0  \n",
       "...    ...     ...     ...     ...     ...     ...  ..  ..        ...  \n",
       "2688     0       0       0       0       0       0   0   0          0  \n",
       "2689     0       0       0       0       0       0   0   0          0  \n",
       "2690     0       0       0       0       0       0   0   0          0  \n",
       "2691     0       0       0       0       0       0   0   0          0  \n",
       "2692     0       0       0       0       0       0   0   0          0  \n",
       "\n",
       "[2693 rows x 8284 columns]"
      ]
     },
     "execution_count": 209,
     "metadata": {},
     "output_type": "execute_result"
    }
   ],
   "source": [
    "# Convert X_train into a DataFrame\n",
    "X_train_cvec_df = pd.DataFrame(X_train_cvec.toarray(),\n",
    "                         columns=cvec.get_feature_names())\n",
    "\n",
    "X_train_cvec_df"
   ]
  },
  {
   "cell_type": "code",
   "execution_count": 210,
   "metadata": {},
   "outputs": [
    {
     "data": {
      "text/plain": [
       "Index(['00', '000', '00p', '00slightly', '0156',\n",
       "       '020a627f81d6b7845512adaebd3405d607afe113', '03', '032c', '05', '07',\n",
       "       ...\n",
       "       'оwn', 'рiсk', 'раssed', 'раssеd', 'саlled', 'саllеd', 'соuplе', 'റഞ',\n",
       "       'ലയ', '𝘚𝘩𝘦𝘦𝘱𝘴𝘬𝘪𝘯'],\n",
       "      dtype='object', length=8284)"
      ]
     },
     "execution_count": 210,
     "metadata": {},
     "output_type": "execute_result"
    }
   ],
   "source": [
    "X_train_cvec_df.columns"
   ]
  },
  {
   "cell_type": "code",
   "execution_count": 211,
   "metadata": {},
   "outputs": [
    {
     "data": {
      "text/html": [
       "<div>\n",
       "<style scoped>\n",
       "    .dataframe tbody tr th:only-of-type {\n",
       "        vertical-align: middle;\n",
       "    }\n",
       "\n",
       "    .dataframe tbody tr th {\n",
       "        vertical-align: top;\n",
       "    }\n",
       "\n",
       "    .dataframe thead th {\n",
       "        text-align: right;\n",
       "    }\n",
       "</style>\n",
       "<table border=\"1\" class=\"dataframe\">\n",
       "  <thead>\n",
       "    <tr style=\"text-align: right;\">\n",
       "      <th></th>\n",
       "      <th>00</th>\n",
       "      <th>000</th>\n",
       "      <th>00p</th>\n",
       "      <th>00slightly</th>\n",
       "      <th>0156</th>\n",
       "      <th>020a627f81d6b7845512adaebd3405d607afe113</th>\n",
       "      <th>03</th>\n",
       "      <th>032c</th>\n",
       "      <th>05</th>\n",
       "      <th>07</th>\n",
       "      <th>...</th>\n",
       "      <th>оwn</th>\n",
       "      <th>рiсk</th>\n",
       "      <th>раssed</th>\n",
       "      <th>раssеd</th>\n",
       "      <th>саlled</th>\n",
       "      <th>саllеd</th>\n",
       "      <th>соuplе</th>\n",
       "      <th>റഞ</th>\n",
       "      <th>ലയ</th>\n",
       "      <th>𝘚𝘩𝘦𝘦𝘱𝘴𝘬𝘪𝘯</th>\n",
       "    </tr>\n",
       "  </thead>\n",
       "  <tbody>\n",
       "    <tr>\n",
       "      <th>0</th>\n",
       "      <td>0</td>\n",
       "      <td>0</td>\n",
       "      <td>0</td>\n",
       "      <td>0</td>\n",
       "      <td>0</td>\n",
       "      <td>0</td>\n",
       "      <td>0</td>\n",
       "      <td>0</td>\n",
       "      <td>0</td>\n",
       "      <td>0</td>\n",
       "      <td>...</td>\n",
       "      <td>0</td>\n",
       "      <td>0</td>\n",
       "      <td>0</td>\n",
       "      <td>0</td>\n",
       "      <td>0</td>\n",
       "      <td>0</td>\n",
       "      <td>0</td>\n",
       "      <td>0</td>\n",
       "      <td>0</td>\n",
       "      <td>0</td>\n",
       "    </tr>\n",
       "    <tr>\n",
       "      <th>1</th>\n",
       "      <td>0</td>\n",
       "      <td>0</td>\n",
       "      <td>0</td>\n",
       "      <td>0</td>\n",
       "      <td>0</td>\n",
       "      <td>0</td>\n",
       "      <td>0</td>\n",
       "      <td>0</td>\n",
       "      <td>0</td>\n",
       "      <td>0</td>\n",
       "      <td>...</td>\n",
       "      <td>0</td>\n",
       "      <td>0</td>\n",
       "      <td>0</td>\n",
       "      <td>0</td>\n",
       "      <td>0</td>\n",
       "      <td>0</td>\n",
       "      <td>0</td>\n",
       "      <td>0</td>\n",
       "      <td>0</td>\n",
       "      <td>0</td>\n",
       "    </tr>\n",
       "    <tr>\n",
       "      <th>2</th>\n",
       "      <td>0</td>\n",
       "      <td>0</td>\n",
       "      <td>0</td>\n",
       "      <td>0</td>\n",
       "      <td>0</td>\n",
       "      <td>0</td>\n",
       "      <td>0</td>\n",
       "      <td>0</td>\n",
       "      <td>0</td>\n",
       "      <td>0</td>\n",
       "      <td>...</td>\n",
       "      <td>0</td>\n",
       "      <td>0</td>\n",
       "      <td>0</td>\n",
       "      <td>0</td>\n",
       "      <td>0</td>\n",
       "      <td>0</td>\n",
       "      <td>0</td>\n",
       "      <td>0</td>\n",
       "      <td>0</td>\n",
       "      <td>0</td>\n",
       "    </tr>\n",
       "    <tr>\n",
       "      <th>3</th>\n",
       "      <td>0</td>\n",
       "      <td>0</td>\n",
       "      <td>0</td>\n",
       "      <td>0</td>\n",
       "      <td>0</td>\n",
       "      <td>0</td>\n",
       "      <td>0</td>\n",
       "      <td>0</td>\n",
       "      <td>0</td>\n",
       "      <td>0</td>\n",
       "      <td>...</td>\n",
       "      <td>0</td>\n",
       "      <td>0</td>\n",
       "      <td>0</td>\n",
       "      <td>0</td>\n",
       "      <td>0</td>\n",
       "      <td>0</td>\n",
       "      <td>0</td>\n",
       "      <td>0</td>\n",
       "      <td>0</td>\n",
       "      <td>0</td>\n",
       "    </tr>\n",
       "    <tr>\n",
       "      <th>4</th>\n",
       "      <td>0</td>\n",
       "      <td>0</td>\n",
       "      <td>0</td>\n",
       "      <td>0</td>\n",
       "      <td>0</td>\n",
       "      <td>0</td>\n",
       "      <td>0</td>\n",
       "      <td>0</td>\n",
       "      <td>0</td>\n",
       "      <td>0</td>\n",
       "      <td>...</td>\n",
       "      <td>0</td>\n",
       "      <td>0</td>\n",
       "      <td>0</td>\n",
       "      <td>0</td>\n",
       "      <td>0</td>\n",
       "      <td>0</td>\n",
       "      <td>0</td>\n",
       "      <td>0</td>\n",
       "      <td>0</td>\n",
       "      <td>0</td>\n",
       "    </tr>\n",
       "    <tr>\n",
       "      <th>...</th>\n",
       "      <td>...</td>\n",
       "      <td>...</td>\n",
       "      <td>...</td>\n",
       "      <td>...</td>\n",
       "      <td>...</td>\n",
       "      <td>...</td>\n",
       "      <td>...</td>\n",
       "      <td>...</td>\n",
       "      <td>...</td>\n",
       "      <td>...</td>\n",
       "      <td>...</td>\n",
       "      <td>...</td>\n",
       "      <td>...</td>\n",
       "      <td>...</td>\n",
       "      <td>...</td>\n",
       "      <td>...</td>\n",
       "      <td>...</td>\n",
       "      <td>...</td>\n",
       "      <td>...</td>\n",
       "      <td>...</td>\n",
       "      <td>...</td>\n",
       "    </tr>\n",
       "    <tr>\n",
       "      <th>893</th>\n",
       "      <td>0</td>\n",
       "      <td>0</td>\n",
       "      <td>0</td>\n",
       "      <td>0</td>\n",
       "      <td>0</td>\n",
       "      <td>0</td>\n",
       "      <td>0</td>\n",
       "      <td>0</td>\n",
       "      <td>0</td>\n",
       "      <td>0</td>\n",
       "      <td>...</td>\n",
       "      <td>0</td>\n",
       "      <td>0</td>\n",
       "      <td>0</td>\n",
       "      <td>0</td>\n",
       "      <td>0</td>\n",
       "      <td>0</td>\n",
       "      <td>0</td>\n",
       "      <td>0</td>\n",
       "      <td>0</td>\n",
       "      <td>0</td>\n",
       "    </tr>\n",
       "    <tr>\n",
       "      <th>894</th>\n",
       "      <td>0</td>\n",
       "      <td>0</td>\n",
       "      <td>0</td>\n",
       "      <td>0</td>\n",
       "      <td>0</td>\n",
       "      <td>0</td>\n",
       "      <td>0</td>\n",
       "      <td>0</td>\n",
       "      <td>0</td>\n",
       "      <td>0</td>\n",
       "      <td>...</td>\n",
       "      <td>0</td>\n",
       "      <td>0</td>\n",
       "      <td>0</td>\n",
       "      <td>0</td>\n",
       "      <td>0</td>\n",
       "      <td>0</td>\n",
       "      <td>0</td>\n",
       "      <td>0</td>\n",
       "      <td>0</td>\n",
       "      <td>0</td>\n",
       "    </tr>\n",
       "    <tr>\n",
       "      <th>895</th>\n",
       "      <td>0</td>\n",
       "      <td>0</td>\n",
       "      <td>0</td>\n",
       "      <td>0</td>\n",
       "      <td>0</td>\n",
       "      <td>0</td>\n",
       "      <td>0</td>\n",
       "      <td>0</td>\n",
       "      <td>0</td>\n",
       "      <td>0</td>\n",
       "      <td>...</td>\n",
       "      <td>0</td>\n",
       "      <td>0</td>\n",
       "      <td>0</td>\n",
       "      <td>0</td>\n",
       "      <td>0</td>\n",
       "      <td>0</td>\n",
       "      <td>0</td>\n",
       "      <td>0</td>\n",
       "      <td>0</td>\n",
       "      <td>0</td>\n",
       "    </tr>\n",
       "    <tr>\n",
       "      <th>896</th>\n",
       "      <td>0</td>\n",
       "      <td>0</td>\n",
       "      <td>0</td>\n",
       "      <td>0</td>\n",
       "      <td>0</td>\n",
       "      <td>0</td>\n",
       "      <td>0</td>\n",
       "      <td>0</td>\n",
       "      <td>0</td>\n",
       "      <td>0</td>\n",
       "      <td>...</td>\n",
       "      <td>0</td>\n",
       "      <td>0</td>\n",
       "      <td>0</td>\n",
       "      <td>0</td>\n",
       "      <td>0</td>\n",
       "      <td>0</td>\n",
       "      <td>0</td>\n",
       "      <td>0</td>\n",
       "      <td>0</td>\n",
       "      <td>0</td>\n",
       "    </tr>\n",
       "    <tr>\n",
       "      <th>897</th>\n",
       "      <td>0</td>\n",
       "      <td>0</td>\n",
       "      <td>0</td>\n",
       "      <td>0</td>\n",
       "      <td>0</td>\n",
       "      <td>0</td>\n",
       "      <td>0</td>\n",
       "      <td>0</td>\n",
       "      <td>0</td>\n",
       "      <td>0</td>\n",
       "      <td>...</td>\n",
       "      <td>0</td>\n",
       "      <td>0</td>\n",
       "      <td>0</td>\n",
       "      <td>0</td>\n",
       "      <td>0</td>\n",
       "      <td>0</td>\n",
       "      <td>0</td>\n",
       "      <td>0</td>\n",
       "      <td>0</td>\n",
       "      <td>0</td>\n",
       "    </tr>\n",
       "  </tbody>\n",
       "</table>\n",
       "<p>898 rows × 8284 columns</p>\n",
       "</div>"
      ],
      "text/plain": [
       "     00  000  00p  00slightly  0156  020a627f81d6b7845512adaebd3405d607afe113  \\\n",
       "0     0    0    0           0     0                                         0   \n",
       "1     0    0    0           0     0                                         0   \n",
       "2     0    0    0           0     0                                         0   \n",
       "3     0    0    0           0     0                                         0   \n",
       "4     0    0    0           0     0                                         0   \n",
       "..   ..  ...  ...         ...   ...                                       ...   \n",
       "893   0    0    0           0     0                                         0   \n",
       "894   0    0    0           0     0                                         0   \n",
       "895   0    0    0           0     0                                         0   \n",
       "896   0    0    0           0     0                                         0   \n",
       "897   0    0    0           0     0                                         0   \n",
       "\n",
       "     03  032c  05  07  ...  оwn  рiсk  раssed  раssеd  саlled  саllеd  соuplе  \\\n",
       "0     0     0   0   0  ...    0     0       0       0       0       0       0   \n",
       "1     0     0   0   0  ...    0     0       0       0       0       0       0   \n",
       "2     0     0   0   0  ...    0     0       0       0       0       0       0   \n",
       "3     0     0   0   0  ...    0     0       0       0       0       0       0   \n",
       "4     0     0   0   0  ...    0     0       0       0       0       0       0   \n",
       "..   ..   ...  ..  ..  ...  ...   ...     ...     ...     ...     ...     ...   \n",
       "893   0     0   0   0  ...    0     0       0       0       0       0       0   \n",
       "894   0     0   0   0  ...    0     0       0       0       0       0       0   \n",
       "895   0     0   0   0  ...    0     0       0       0       0       0       0   \n",
       "896   0     0   0   0  ...    0     0       0       0       0       0       0   \n",
       "897   0     0   0   0  ...    0     0       0       0       0       0       0   \n",
       "\n",
       "     റഞ  ലയ  𝘚𝘩𝘦𝘦𝘱𝘴𝘬𝘪𝘯  \n",
       "0     0   0          0  \n",
       "1     0   0          0  \n",
       "2     0   0          0  \n",
       "3     0   0          0  \n",
       "4     0   0          0  \n",
       "..   ..  ..        ...  \n",
       "893   0   0          0  \n",
       "894   0   0          0  \n",
       "895   0   0          0  \n",
       "896   0   0          0  \n",
       "897   0   0          0  \n",
       "\n",
       "[898 rows x 8284 columns]"
      ]
     },
     "execution_count": 211,
     "metadata": {},
     "output_type": "execute_result"
    }
   ],
   "source": [
    "# Transform test data set (do not fit test dataset)\n",
    "X_test_cvec = cvec.transform(X_test)\n",
    "\n",
    "# Convert X_test into a DataFrame\n",
    "X_test_cvec_df = pd.DataFrame(X_test_cvec.toarray(),\n",
    "                        columns=cvec.get_feature_names())\n",
    "\n",
    "X_test_cvec_df"
   ]
  },
  {
   "cell_type": "code",
   "execution_count": 212,
   "metadata": {},
   "outputs": [
    {
     "data": {
      "text/plain": [
       "LogisticRegression()"
      ]
     },
     "execution_count": 212,
     "metadata": {},
     "output_type": "execute_result"
    }
   ],
   "source": [
    "logreg_cvec.fit(X_train_cvec, y_train)"
   ]
  },
  {
   "cell_type": "code",
   "execution_count": 172,
   "metadata": {},
   "outputs": [
    {
     "name": "stdout",
     "output_type": "stream",
     "text": [
      "CountVectorizer Training Score: 0.9951726698848867\n",
      "CountVectorizer Testing Score: 0.955456570155902\n"
     ]
    }
   ],
   "source": [
    "# CountVectorizer Scores without stop_words & token_pattern\n",
    "print(f'CountVectorizer Training Score: {logreg_cvec.score(X_train_cvec, y_train)}')\n",
    "print(f'CountVectorizer Testing Score: {logreg_cvec.score(X_test_cvec, y_test)}')"
   ]
  },
  {
   "cell_type": "code",
   "execution_count": 178,
   "metadata": {},
   "outputs": [
    {
     "name": "stdout",
     "output_type": "stream",
     "text": [
      "CountVectorizer Training Score: 0.9959153360564427\n",
      "CountVectorizer Testing Score: 0.9643652561247216\n"
     ]
    }
   ],
   "source": [
    "# CountVectorizer Scores with token_pattern='\\w+' only\n",
    "print(f'CountVectorizer Training Score: {logreg_cvec.score(X_train_cvec, y_train)}')\n",
    "print(f'CountVectorizer Testing Score: {logreg_cvec.score(X_test_cvec, y_test)}')"
   ]
  },
  {
   "cell_type": "code",
   "execution_count": 184,
   "metadata": {},
   "outputs": [
    {
     "name": "stdout",
     "output_type": "stream",
     "text": [
      "CountVectorizer Training Score: 0.9925733382844412\n",
      "CountVectorizer Testing Score: 0.9643652561247216\n"
     ]
    }
   ],
   "source": [
    "# CountVectorizer Scores with stop_words='english' only\n",
    "print(f'CountVectorizer Training Score: {logreg_cvec.score(X_train_cvec, y_train)}')\n",
    "print(f'CountVectorizer Testing Score: {logreg_cvec.score(X_test_cvec, y_test)}')"
   ]
  },
  {
   "cell_type": "code",
   "execution_count": 190,
   "metadata": {},
   "outputs": [
    {
     "name": "stdout",
     "output_type": "stream",
     "text": [
      "CountVectorizer Training Score: 0.9925733382844412\n",
      "CountVectorizer Testing Score: 0.9599109131403119\n"
     ]
    }
   ],
   "source": [
    "# CountVectorizer Scores with both stop_words & token_pattern\n",
    "print(f'CountVectorizer Training Score: {logreg_cvec.score(X_train_cvec, y_train)}')\n",
    "print(f'CountVectorizer Testing Score: {logreg_cvec.score(X_test_cvec, y_test)}')"
   ]
  },
  {
   "cell_type": "markdown",
   "metadata": {},
   "source": [
    "#### Confussion Matrix with CountVectorizer"
   ]
  },
  {
   "cell_type": "code",
   "execution_count": 68,
   "metadata": {},
   "outputs": [],
   "source": [
    "from sklearn.metrics import confusion_matrix"
   ]
  },
  {
   "cell_type": "code",
   "execution_count": 69,
   "metadata": {},
   "outputs": [
    {
     "data": {
      "text/plain": [
       "array([[296,  15,   6],\n",
       "       [  0, 285,   0],\n",
       "       [  0,  11, 285]])"
      ]
     },
     "execution_count": 69,
     "metadata": {},
     "output_type": "execute_result"
    }
   ],
   "source": [
    "# Generate Predictions\n",
    "preds = logreg_cvec.predict(X_test_cvec)\n",
    "\n",
    "# Generate Confusion Matrix\n",
    "confusion_matrix(y_test, preds)"
   ]
  },
  {
   "cell_type": "markdown",
   "metadata": {},
   "source": [
    "### TfidVectorizer"
   ]
  },
  {
   "cell_type": "code",
   "execution_count": 220,
   "metadata": {},
   "outputs": [
    {
     "data": {
      "text/plain": [
       "LogisticRegression()"
      ]
     },
     "execution_count": 220,
     "metadata": {},
     "output_type": "execute_result"
    }
   ],
   "source": [
    "# Instantiate TfidVectorizer\n",
    "tvec = TfidfVectorizer(token_pattern='\\w+', stop_words='english')\n",
    "\n",
    "# Fit TfidVectorizer\n",
    "tvec.fit(X_train)\n",
    "\n",
    "# Transform TfidVectorizer\n",
    "X_train_tvec = tvec.transform(X_train)\n",
    "\n",
    "# Convert X_train into a DataFrame\n",
    "X_train_tvec_df = pd.DataFrame(X_train_tvec.toarray(),\n",
    "                              columns=tvec.get_feature_names())\n",
    "\n",
    "# Transform test data set (do not fit test dataset)\n",
    "X_test_tvec = tvec.transform(X_test)\n",
    "\n",
    "# Convert X_test into a DataFrame\n",
    "X_test_tvec_df = pd.DataFrame(X_test_tvec.toarray(),\n",
    "                             columns=tvec.get_feature_names())\n",
    "\n",
    "# Fit Logistic Regression\n",
    "logreg_tvec.fit(X_train_tvec, y_train)"
   ]
  },
  {
   "cell_type": "code",
   "execution_count": 217,
   "metadata": {},
   "outputs": [
    {
     "name": "stdout",
     "output_type": "stream",
     "text": [
      "TfidVectorizer Training Score: 0.9858893427404382\n",
      "TfidVectorizer Testing Score: 0.9532293986636972\n"
     ]
    }
   ],
   "source": [
    "# Model Scores without stop_words='english', with token_pattern='\\w+'\n",
    "print(f'TfidVectorizer Training Score: {logreg_tvec.score(X_train_tvec, y_train)}')\n",
    "print(f'TfidVectorizer Testing Score: {logreg_tvec.score(X_test_tvec, y_test)}')"
   ]
  },
  {
   "cell_type": "code",
   "execution_count": 221,
   "metadata": {},
   "outputs": [
    {
     "name": "stdout",
     "output_type": "stream",
     "text": [
      "TfidVectorizer Training Score: 0.9877460081693279\n",
      "TfidVectorizer Testing Score: 0.9665924276169265\n"
     ]
    }
   ],
   "source": [
    "# Model Scores with both stop_words='english' and token_pattern='\\w+'\n",
    "print(f'TfidVectorizer Training Score: {logreg_tvec.score(X_train_tvec, y_train)}')\n",
    "print(f'TfidVectorizer Testing Score: {logreg_tvec.score(X_test_tvec, y_test)}')"
   ]
  },
  {
   "cell_type": "code",
   "execution_count": 219,
   "metadata": {},
   "outputs": [
    {
     "name": "stdout",
     "output_type": "stream",
     "text": [
      "TfidVectorizer Training Score: 0.9847753434831044\n",
      "TfidVectorizer Testing Score: 0.9532293986636972\n"
     ]
    }
   ],
   "source": [
    "# Model Scores with token_pattern='\\w+'\n",
    "print(f'TfidVectorizer Training Score: {logreg_tvec.score(X_train_tvec, y_train)}')\n",
    "print(f'TfidVectorizer Testing Score: {logreg_tvec.score(X_test_tvec, y_test)}')"
   ]
  },
  {
   "cell_type": "code",
   "execution_count": 215,
   "metadata": {},
   "outputs": [
    {
     "name": "stdout",
     "output_type": "stream",
     "text": [
      "TfidVectorizer Training Score: 0.9877460081693279\n",
      "TfidVectorizer Testing Score: 0.9665924276169265\n"
     ]
    }
   ],
   "source": [
    "# Model Scores with stop_words='english'\n",
    "print(f'TfidVectorizer Training Score: {logreg_tvec.score(X_train_tvec, y_train)}')\n",
    "print(f'TfidVectorizer Testing Score: {logreg_tvec.score(X_test_tvec, y_test)}')"
   ]
  },
  {
   "cell_type": "markdown",
   "metadata": {},
   "source": [
    "### Pipeline"
   ]
  },
  {
   "cell_type": "code",
   "execution_count": 223,
   "metadata": {},
   "outputs": [],
   "source": [
    "pipe = Pipeline([\n",
    "    ('tvec', TfidfVectorizer()),\n",
    "    ('logreg', LogisticRegression())\n",
    "])"
   ]
  },
  {
   "cell_type": "code",
   "execution_count": 224,
   "metadata": {},
   "outputs": [
    {
     "data": {
      "text/plain": [
       "0.9313012531812319"
      ]
     },
     "execution_count": 224,
     "metadata": {},
     "output_type": "execute_result"
    }
   ],
   "source": [
    "cross_val_score(pipe, X_train, y_train, cv=5).mean()"
   ]
  },
  {
   "cell_type": "code",
   "execution_count": 225,
   "metadata": {},
   "outputs": [
    {
     "name": "stdout",
     "output_type": "stream",
     "text": [
      "Training Score: 0.9858893427404382\n",
      "Testing Score: 0.9532293986636972\n"
     ]
    }
   ],
   "source": [
    "pipe.fit(X_train, y_train)\n",
    "print(f'Training Score: {pipe.score(X_train, y_train)}')\n",
    "print(f'Testing Score: {pipe.score(X_test, y_test)}')\n"
   ]
  },
  {
   "cell_type": "markdown",
   "metadata": {},
   "source": [
    "### GridSearchCV on TfidVectorizer"
   ]
  },
  {
   "cell_type": "code",
   "execution_count": 233,
   "metadata": {},
   "outputs": [
    {
     "name": "stdout",
     "output_type": "stream",
     "text": [
      "GridSearchCV Best Score: 0.795397645371092\n"
     ]
    }
   ],
   "source": [
    "pipe_params = {\n",
    "    'tvec__max_features' : [1000, 5000],\n",
    "    'tvec__min_df' : [0.05, 0.15],\n",
    "    'tvec__max_df' : [0.8, 0.9],\n",
    "    'tvec__ngram_range' : [(1, 1), (1, 2)],\n",
    "}\n",
    "\n",
    "gs = GridSearchCV(pipe,\n",
    "                 param_grid=pipe_params,\n",
    "                 cv = 5)\n",
    "\n",
    "gs.fit(X_train, y_train)\n",
    "\n",
    "print(f'GridSearchCV Best Score: {gs.best_score_}')\n"
   ]
  },
  {
   "cell_type": "code",
   "execution_count": 227,
   "metadata": {},
   "outputs": [
    {
     "name": "stdout",
     "output_type": "stream",
     "text": [
      "GridSearchCV Training Dataset Score: 0.8299294467137022\n",
      "GridSearchCV Testing Dataset Score: 0.7594654788418709\n",
      "GridSearchCV Best Result Model Combination: {'tvec__max_df': 0.8, 'tvec__max_features': 1000, 'tvec__min_df': 0.05, 'tvec__ngram_range': (1, 2)}\n"
     ]
    }
   ],
   "source": [
    "# Save best model as gs_model\n",
    "gs_model = gs.best_estimator_\n",
    "\n",
    "# Score model on training set\n",
    "gs_model.score(X_train, y_train)\n",
    "print(f'GridSearchCV Training Dataset Score: {gs_model.score(X_train, y_train)}')\n",
    "\n",
    "# Score model on testing set\n",
    "gs_model.score(X_test, y_test)\n",
    "print(f'GridSearchCV Testing Dataset Score: {gs_model.score(X_test, y_test)}')\n",
    "\n",
    "# Which model combination gives us the best result?\n",
    "gs.best_params_\n",
    "print(f'GridSearchCV Best Result Model Combination: {gs.best_params_}')"
   ]
  },
  {
   "cell_type": "code",
   "execution_count": null,
   "metadata": {},
   "outputs": [],
   "source": []
  },
  {
   "cell_type": "markdown",
   "metadata": {},
   "source": [
    "### KNN Model"
   ]
  },
  {
   "cell_type": "code",
   "execution_count": 106,
   "metadata": {},
   "outputs": [],
   "source": [
    "from sklearn.neighbors import KNeighborsClassifier\n",
    "from sklearn.preprocessing import StandardScaler"
   ]
  },
  {
   "cell_type": "code",
   "execution_count": 107,
   "metadata": {},
   "outputs": [
    {
     "data": {
      "text/html": [
       "<div>\n",
       "<style scoped>\n",
       "    .dataframe tbody tr th:only-of-type {\n",
       "        vertical-align: middle;\n",
       "    }\n",
       "\n",
       "    .dataframe tbody tr th {\n",
       "        vertical-align: top;\n",
       "    }\n",
       "\n",
       "    .dataframe thead th {\n",
       "        text-align: right;\n",
       "    }\n",
       "</style>\n",
       "<table border=\"1\" class=\"dataframe\">\n",
       "  <thead>\n",
       "    <tr style=\"text-align: right;\">\n",
       "      <th></th>\n",
       "      <th>subreddit</th>\n",
       "      <th>text</th>\n",
       "    </tr>\n",
       "  </thead>\n",
       "  <tbody>\n",
       "    <tr>\n",
       "      <th>0</th>\n",
       "      <td>0</td>\n",
       "      <td>Establishing a couples engagement/wedding port...</td>\n",
       "    </tr>\n",
       "    <tr>\n",
       "      <th>1</th>\n",
       "      <td>0</td>\n",
       "      <td>EF 70-200 or RF 70-200Hi, \\n\\nI am looking to ...</td>\n",
       "    </tr>\n",
       "    <tr>\n",
       "      <th>2</th>\n",
       "      <td>0</td>\n",
       "      <td>Absolutely thrilled with how my second wedding...</td>\n",
       "    </tr>\n",
       "    <tr>\n",
       "      <th>3</th>\n",
       "      <td>0</td>\n",
       "      <td>Good health insurance for wedding photographer...</td>\n",
       "    </tr>\n",
       "    <tr>\n",
       "      <th>4</th>\n",
       "      <td>0</td>\n",
       "      <td>Need Feedback: How to backup photos in 2021?Hi...</td>\n",
       "    </tr>\n",
       "    <tr>\n",
       "      <th>...</th>\n",
       "      <td>...</td>\n",
       "      <td>...</td>\n",
       "    </tr>\n",
       "    <tr>\n",
       "      <th>3586</th>\n",
       "      <td>2</td>\n",
       "      <td>Using auto focus on someones head, then switch...</td>\n",
       "    </tr>\n",
       "    <tr>\n",
       "      <th>3587</th>\n",
       "      <td>2</td>\n",
       "      <td>Movi Cinema Robot w/ 12 Pro Max &amp;amp; Moment l...</td>\n",
       "    </tr>\n",
       "    <tr>\n",
       "      <th>3588</th>\n",
       "      <td>2</td>\n",
       "      <td>Always get excited when this name shows up in ...</td>\n",
       "    </tr>\n",
       "    <tr>\n",
       "      <th>3589</th>\n",
       "      <td>2</td>\n",
       "      <td>Experimental short advice?So I got some spare ...</td>\n",
       "    </tr>\n",
       "    <tr>\n",
       "      <th>3590</th>\n",
       "      <td>2</td>\n",
       "      <td>Does anyone know who shot the transparent soul...</td>\n",
       "    </tr>\n",
       "  </tbody>\n",
       "</table>\n",
       "<p>3591 rows × 2 columns</p>\n",
       "</div>"
      ],
      "text/plain": [
       "      subreddit                                               text\n",
       "0             0  Establishing a couples engagement/wedding port...\n",
       "1             0  EF 70-200 or RF 70-200Hi, \\n\\nI am looking to ...\n",
       "2             0  Absolutely thrilled with how my second wedding...\n",
       "3             0  Good health insurance for wedding photographer...\n",
       "4             0  Need Feedback: How to backup photos in 2021?Hi...\n",
       "...         ...                                                ...\n",
       "3586          2  Using auto focus on someones head, then switch...\n",
       "3587          2  Movi Cinema Robot w/ 12 Pro Max &amp; Moment l...\n",
       "3588          2  Always get excited when this name shows up in ...\n",
       "3589          2  Experimental short advice?So I got some spare ...\n",
       "3590          2  Does anyone know who shot the transparent soul...\n",
       "\n",
       "[3591 rows x 2 columns]"
      ]
     },
     "execution_count": 107,
     "metadata": {},
     "output_type": "execute_result"
    }
   ],
   "source": [
    "df_full"
   ]
  },
  {
   "cell_type": "code",
   "execution_count": 108,
   "metadata": {},
   "outputs": [],
   "source": [
    "# Create X and y\n",
    "X_knn = X_train_cvec_df #X_knn from using cvec dataframe that has already been countvectorized\n",
    "y_knn = y_train\n",
    "\n",
    "# using cvec dataframe means that the shape of X_knn is 25% smaller than the original dataframe... \n",
    "# hence, we lost some data"
   ]
  },
  {
   "cell_type": "code",
   "execution_count": 109,
   "metadata": {},
   "outputs": [
    {
     "data": {
      "text/plain": [
       "1    0.337170\n",
       "2    0.335685\n",
       "0    0.327144\n",
       "Name: subreddit, dtype: float64"
      ]
     },
     "execution_count": 109,
     "metadata": {},
     "output_type": "execute_result"
    }
   ],
   "source": [
    "y_knn.value_counts(normalize=True)"
   ]
  },
  {
   "cell_type": "code",
   "execution_count": 110,
   "metadata": {},
   "outputs": [],
   "source": [
    "X_train_knn, X_test_knn, y_train_knn, y_test_knn = train_test_split(X_knn, \n",
    "                                                                   y_knn,\n",
    "                                                                   test_size=0.25, \n",
    "                                                                   random_state=42)"
   ]
  },
  {
   "cell_type": "code",
   "execution_count": 111,
   "metadata": {},
   "outputs": [
    {
     "data": {
      "text/plain": [
       "(674,)"
      ]
     },
     "execution_count": 111,
     "metadata": {},
     "output_type": "execute_result"
    }
   ],
   "source": [
    "# Check the shape of X_train_knn, X_test_knn, y_train_knn, y_test_knn\n",
    "y_test_knn.shape"
   ]
  },
  {
   "cell_type": "code",
   "execution_count": 112,
   "metadata": {},
   "outputs": [
    {
     "name": "stdout",
     "output_type": "stream",
     "text": [
      "Cross Val Score k=3: 0.4977520084514655\n",
      "Cross Val Score k=5: 0.4125715549222416\n",
      "Cross Val Score k=15: 0.34472274770901407\n",
      "\n",
      "KNN Training Model Score k=3: 0.7894997523526498\n",
      "KNN Testing Model Score k=3: 0.5341246290801187\n",
      "\n",
      "KNN Training Model Score k=5: 0.5636453689945518\n",
      "KNN Testing Model Score k=5: 0.456973293768546\n",
      "\n",
      "KNN Training Model Score k=15: 0.35066864784546803\n",
      "KNN Testing Model Score k=15: 0.3397626112759644\n"
     ]
    }
   ],
   "source": [
    "# This takes forever to run, please don't run it unless it's absolutely necessary.\n",
    "# Standardize & Fit \n",
    "ss = StandardScaler()\n",
    "X_train_ss = ss.fit_transform(X_train_knn)\n",
    "X_test_ss = ss.transform(X_test_knn)\n",
    "\n",
    "# Instantiate KNN for k=3, k=5, k=15\n",
    "knn_3 = KNeighborsClassifier(n_neighbors=3)\n",
    "knn_5 = KNeighborsClassifier(n_neighbors=5)\n",
    "knn_15 = KNeighborsClassifier(n_neighbors=15)\n",
    "\n",
    "# Cross Validation\n",
    "print(f'Cross Val Score k=3: {cross_val_score(knn_3, X_train_ss, y_train_knn, cv=5).mean()}')\n",
    "print(f'Cross Val Score k=5: {cross_val_score(knn_5, X_train_ss, y_train_knn, cv=5).mean()}')\n",
    "print(f'Cross Val Score k=15: {cross_val_score(knn_15, X_train_ss, y_train_knn, cv=5).mean()}')\n",
    "print('')\n",
    "\n",
    "# Fit each KNN training model\n",
    "knn_3.fit(X_train_ss, y_train_knn)\n",
    "knn_5.fit(X_train_ss, y_train_knn)\n",
    "knn_15.fit(X_train_ss, y_train_knn)\n",
    "\n",
    "# KNN Scores\n",
    "print(f'KNN Training Model Score k=3: {knn_3.score(X_train_ss, y_train_knn)}')\n",
    "print(f'KNN Testing Model Score k=3: {knn_3.score(X_test_ss, y_test_knn)}')\n",
    "print('')\n",
    "print(f'KNN Training Model Score k=5: {knn_5.score(X_train_ss, y_train_knn)}')\n",
    "print(f'KNN Testing Model Score k=5: {knn_5.score(X_test_ss, y_test_knn)}')\n",
    "print('')\n",
    "print(f'KNN Training Model Score k=15: {knn_15.score(X_train_ss, y_train_knn)}')\n",
    "print(f'KNN Testing Model Score k=15: {knn_15.score(X_test_ss, y_test_knn)}')"
   ]
  },
  {
   "cell_type": "code",
   "execution_count": 160,
   "metadata": {},
   "outputs": [
    {
     "data": {
      "text/plain": [
       "[0.6983784978994179,\n",
       " 0.5745534727169987,\n",
       " 0.4977520084514655,\n",
       " 0.4442682357565781,\n",
       " 0.4125715549222416,\n",
       " 0.37988846031005086,\n",
       " 0.37492936638577007,\n",
       " 0.3670073458958799,\n",
       " 0.3595791465002579,\n",
       " 0.35363609561948744,\n",
       " 0.3481893226543497,\n",
       " 0.3471992236444487,\n",
       " 0.34472274770901407,\n",
       " 0.3442276982040636,\n",
       " 0.34472274770901407]"
      ]
     },
     "execution_count": 160,
     "metadata": {},
     "output_type": "execute_result"
    }
   ],
   "source": [
    "# Find the best K ** THIS TAKES FOREVER TO RUN PLEASE DON'T RUN IT UNLESS ABSOLUTELY NECESSARY **\n",
    "scores = []\n",
    "\n",
    "for k in range(1, 16):\n",
    "    knn = KNeighborsClassifier(n_neighbors=k)\n",
    "    scores.append(cross_val_score(knn, X_train_ss, y_train_knn, cv=5).mean())\n",
    "\n",
    "scores"
   ]
  },
  {
   "cell_type": "code",
   "execution_count": 162,
   "metadata": {},
   "outputs": [
    {
     "data": {
      "text/plain": [
       "Text(0, 0.5, 'Training Scores')"
      ]
     },
     "execution_count": 162,
     "metadata": {},
     "output_type": "execute_result"
    },
    {
     "data": {
      "image/png": "[encoded data removed]",
      "text/plain": [
       "<Figure size 432x288 with 1 Axes>"
      ]
     },
     "metadata": {
      "needs_background": "light"
     },
     "output_type": "display_data"
    }
   ],
   "source": [
    "import matplotlib.pyplot as plt\n",
    "plt.plot(range(1, 16), scores)\n",
    "plt.title('KNN Range K=1 to K=15')\n",
    "plt.xlabel('# of Neighbors')\n",
    "plt.ylabel('Training Scores')"
   ]
  },
  {
   "cell_type": "code",
   "execution_count": 129,
   "metadata": {},
   "outputs": [
    {
     "data": {
      "text/plain": [
       "[0.6983809547207822,\n",
       " 0.5730658673807827,\n",
       " 0.49329533449622875,\n",
       " 0.4437719578409454,\n",
       " 0.4086099304719554,\n",
       " 0.3793921823944181,\n",
       " 0.3754256443014029,\n",
       " 0.3660184752966612,\n",
       " 0.35908409699530747,\n",
       " 0.35313981770385466,\n",
       " 0.346702945728816,\n",
       " 0.3467041741394983,\n",
       " 0.3452177972139646,\n",
       " 0.34472274770901407]"
      ]
     },
     "execution_count": 129,
     "metadata": {},
     "output_type": "execute_result"
    }
   ],
   "source": [
    "# Find the best K **OLD VERSION WTIHOUT TOKENIZER & STOP WORDS** DO NOT DELETE\n",
    "scores = []\n",
    "\n",
    "for k in range(1, 15):\n",
    "    knn = KNeighborsClassifier(n_neighbors=k)\n",
    "    scores.append(cross_val_score(knn, X_train_ss, y_train_knn, cv=5).mean())\n",
    "\n",
    "scores"
   ]
  },
  {
   "cell_type": "code",
   "execution_count": 133,
   "metadata": {},
   "outputs": [
    {
     "data": {
      "text/plain": [
       "[<matplotlib.lines.Line2D at 0x7f9e47ca6190>]"
      ]
     },
     "execution_count": 133,
     "metadata": {},
     "output_type": "execute_result"
    },
    {
     "data": {
      "image/png": "[encoded data removed]",
      "text/plain": [
       "<Figure size 432x288 with 1 Axes>"
      ]
     },
     "metadata": {
      "needs_background": "light"
     },
     "output_type": "display_data"
    }
   ],
   "source": [
    "import matplotlib.pyplot as plt\n",
    "plt.plot(range(1, 15), scores)"
   ]
  },
  {
   "cell_type": "code",
   "execution_count": null,
   "metadata": {},
   "outputs": [],
   "source": []
  },
  {
   "cell_type": "markdown",
   "metadata": {},
   "source": [
    "### Random Forest"
   ]
  },
  {
   "cell_type": "code",
   "execution_count": 113,
   "metadata": {},
   "outputs": [],
   "source": [
    "from sklearn.ensemble import RandomForestClassifier, ExtraTreesClassifier"
   ]
  },
  {
   "cell_type": "code",
   "execution_count": 114,
   "metadata": {},
   "outputs": [],
   "source": [
    "# Create X and y\n",
    "X_rf = X_train_cvec_df #X_knn from using cvec dataframe that has already been countvectorized\n",
    "y_rf = y_train\n",
    "\n",
    "# using cvec dataframe means that the shape of X_knn is 25% smaller than the original dataframe... \n",
    "# hence, we lost some data"
   ]
  },
  {
   "cell_type": "code",
   "execution_count": 115,
   "metadata": {},
   "outputs": [],
   "source": [
    "X_train_rf, X_test_rf, y_train_rf, y_test_rf = train_test_split(X_rf,\n",
    "                                                               y_rf,\n",
    "                                                               test_size=0.25,\n",
    "                                                               random_state=42)"
   ]
  },
  {
   "cell_type": "code",
   "execution_count": 116,
   "metadata": {},
   "outputs": [],
   "source": [
    "rf = RandomForestClassifier()\n",
    "et = ExtraTreesClassifier()"
   ]
  },
  {
   "cell_type": "code",
   "execution_count": 163,
   "metadata": {},
   "outputs": [
    {
     "name": "stdout",
     "output_type": "stream",
     "text": [
      "Random Forest Training Score: 0.8845945016337863\n",
      "Extreme Tree Training Score: 0.8880684470432154\n"
     ]
    }
   ],
   "source": [
    "print(f'Random Forest Training Score: {cross_val_score(rf, X_train_rf, y_train_rf, cv=5).mean()}')\n",
    "print(f'Extreme Tree Training Score: {cross_val_score(et, X_train_rf, y_train_rf, cv=5).mean()}')"
   ]
  },
  {
   "cell_type": "code",
   "execution_count": 164,
   "metadata": {},
   "outputs": [
    {
     "name": "stdout",
     "output_type": "stream",
     "text": [
      "Random Forest Testing Score: 0.784864566058596\n",
      "Extreme Tree Testing Score: 0.7789718076285241\n"
     ]
    }
   ],
   "source": [
    "print(f'Random Forest Testing Score: {cross_val_score(rf, X_test_rf, y_test_rf, cv=5).mean()}')\n",
    "print(f'Extreme Tree Testing Score: {cross_val_score(et, X_test_rf, y_test_rf, cv=5).mean()}')"
   ]
  },
  {
   "cell_type": "markdown",
   "metadata": {},
   "source": [
    "### Grid Search on Random Forest"
   ]
  },
  {
   "cell_type": "code",
   "execution_count": 165,
   "metadata": {},
   "outputs": [
    {
     "name": "stdout",
     "output_type": "stream",
     "text": [
      "Fitting 5 folds for each of 16 candidates, totalling 80 fits\n"
     ]
    },
    {
     "name": "stderr",
     "output_type": "stream",
     "text": [
      "[Parallel(n_jobs=1)]: Using backend SequentialBackend with 1 concurrent workers.\n",
      "[Parallel(n_jobs=1)]: Done  80 out of  80 | elapsed:  2.3min finished\n"
     ]
    },
    {
     "data": {
      "text/plain": [
       "GridSearchCV(cv=5, estimator=RandomForestClassifier(),\n",
       "             param_grid={'max_depth': [None, 3, 4, 5],\n",
       "                         'n_estimators': [50, 100, 150, 200]},\n",
       "             verbose=1)"
      ]
     },
     "execution_count": 165,
     "metadata": {},
     "output_type": "execute_result"
    }
   ],
   "source": [
    "rf_params = {\n",
    "    'n_estimators': [50, 100, 150, 200],\n",
    "    'max_depth': [None, 3, 4, 5]\n",
    "}\n",
    "\n",
    "gs = GridSearchCV(rf, param_grid=rf_params, cv=5, verbose=1)\n",
    "\n",
    "gs.fit(X_train_rf, y_train_rf)"
   ]
  },
  {
   "cell_type": "code",
   "execution_count": 166,
   "metadata": {},
   "outputs": [
    {
     "name": "stdout",
     "output_type": "stream",
     "text": [
      "Random Forest Model Best Score: 0.8910387440729185\n",
      "\n",
      "Random Forest Model Best Combination: {'max_depth': None, 'n_estimators': 200}\n",
      "\n",
      "Random Forest Training Model Score: 0.9970282317979198\n",
      "\n",
      "Ramdom Forest Training Model Best Estimator Score: 0.9970282317979198\n",
      "\n",
      "Random Forest Testing Model Score: 0.9317507418397626\n",
      "\n",
      "Ramdom Forest Testing Model Best Estimator Score: 0.9317507418397626\n",
      "\n"
     ]
    }
   ],
   "source": [
    "print(f'Random Forest Model Best Score: {gs.best_score_}')\n",
    "print('')\n",
    "print(f'Random Forest Model Best Combination: {gs.best_params_}')\n",
    "print('')\n",
    "print(f'Random Forest Training Model Score: {gs.score(X_train_rf, y_train_rf)}')\n",
    "print('')\n",
    "print(f'Ramdom Forest Training Model Best Estimator Score: {gs.best_estimator_.score(X_train_rf, y_train_rf)}')\n",
    "print('')\n",
    "print(f'Random Forest Testing Model Score: {gs.score(X_test_rf, y_test_rf)}')\n",
    "print('')\n",
    "print(f'Ramdom Forest Testing Model Best Estimator Score: {gs.best_estimator_.score(X_test_rf, y_test_rf)}')\n",
    "print('')"
   ]
  },
  {
   "cell_type": "code",
   "execution_count": 127,
   "metadata": {},
   "outputs": [
    {
     "name": "stdout",
     "output_type": "stream",
     "text": [
      "Random Forest Model Best Score: 0.8895523671473848\n",
      "\n",
      "Random Forest Model Best Combination: {'max_depth': None, 'n_estimators': 100}\n",
      "\n",
      "Random Forest Training Model Score: 0.9970282317979198\n",
      "\n",
      "Ramdom Forest Training Model Best Estimator Score: 0.9970282317979198\n",
      "\n",
      "Random Forest Testing Model Score: 0.9362017804154302\n",
      "\n",
      "Ramdom Forest Testing Model Best Estimator Score: 0.9362017804154302\n",
      "\n"
     ]
    }
   ],
   "source": [
    "# OLD VERSION WITHOUT TOKENIZER & STOP WORDS\n",
    "print(f'Random Forest Model Best Score: {gs.best_score_}')\n",
    "print('')\n",
    "print(f'Random Forest Model Best Combination: {gs.best_params_}')\n",
    "print('')\n",
    "print(f'Random Forest Training Model Score: {gs.score(X_train_rf, y_train_rf)}')\n",
    "print('')\n",
    "print(f'Ramdom Forest Training Model Best Estimator Score: {gs.best_estimator_.score(X_train_rf, y_train_rf)}')\n",
    "print('')\n",
    "print(f'Random Forest Testing Model Score: {gs.score(X_test_rf, y_test_rf)}')\n",
    "print('')\n",
    "print(f'Ramdom Forest Testing Model Best Estimator Score: {gs.best_estimator_.score(X_test_rf, y_test_rf)}')\n",
    "print('')"
   ]
  },
  {
   "cell_type": "code",
   "execution_count": null,
   "metadata": {},
   "outputs": [],
   "source": []
  }
 ],
 "metadata": {
  "kernelspec": {
   "display_name": "Python 3",
   "language": "python",
   "name": "python3"
  },
  "language_info": {
   "codemirror_mode": {
    "name": "ipython",
    "version": 3
   },
   "file_extension": ".py",
   "mimetype": "text/x-python",
   "name": "python",
   "nbconvert_exporter": "python",
   "pygments_lexer": "ipython3",
   "version": "3.8.5"
  }
 },
 "nbformat": 4,
 "nbformat_minor": 4
}
